{
 "cells": [
  {
   "cell_type": "code",
   "execution_count": null,
   "metadata": {},
   "outputs": [],
   "source": [
    "# 入门Pandas不可不知的技巧"
   ]
  },
  {
   "cell_type": "code",
   "execution_count": 2,
   "metadata": {
    "collapsed": true
   },
   "outputs": [],
   "source": [
    "\n",
    "# 首先，导入包\n",
    "import pandas as pd\n",
    "import numpy as np"
   ]
  },
  {
   "cell_type": "code",
   "execution_count": 3,
   "metadata": {},
   "outputs": [
    {
     "output_type": "execute_result",
     "data": {
      "text/plain": [
       "  name  age sex  score address\n",
       "0   小明   20   男    669      北京\n",
       "1   小红   18   女    570      深圳\n",
       "2   小孙   27   男    642      广州\n",
       "3   王小   20   男    590      武汉\n",
       "4   关宇   28   男    601      深圳\n",
       "5   刘蓓   18   女    619      广州\n",
       "6   张菲   25   女    701      长沙"
      ],
      "text/html": "<div>\n<style scoped>\n    .dataframe tbody tr th:only-of-type {\n        vertical-align: middle;\n    }\n\n    .dataframe tbody tr th {\n        vertical-align: top;\n    }\n\n    .dataframe thead th {\n        text-align: right;\n    }\n</style>\n<table border=\"1\" class=\"dataframe\">\n  <thead>\n    <tr style=\"text-align: right;\">\n      <th></th>\n      <th>name</th>\n      <th>age</th>\n      <th>sex</th>\n      <th>score</th>\n      <th>address</th>\n    </tr>\n  </thead>\n  <tbody>\n    <tr>\n      <th>0</th>\n      <td>小明</td>\n      <td>20</td>\n      <td>男</td>\n      <td>669</td>\n      <td>北京</td>\n    </tr>\n    <tr>\n      <th>1</th>\n      <td>小红</td>\n      <td>18</td>\n      <td>女</td>\n      <td>570</td>\n      <td>深圳</td>\n    </tr>\n    <tr>\n      <th>2</th>\n      <td>小孙</td>\n      <td>27</td>\n      <td>男</td>\n      <td>642</td>\n      <td>广州</td>\n    </tr>\n    <tr>\n      <th>3</th>\n      <td>王小</td>\n      <td>20</td>\n      <td>男</td>\n      <td>590</td>\n      <td>武汉</td>\n    </tr>\n    <tr>\n      <th>4</th>\n      <td>关宇</td>\n      <td>28</td>\n      <td>男</td>\n      <td>601</td>\n      <td>深圳</td>\n    </tr>\n    <tr>\n      <th>5</th>\n      <td>刘蓓</td>\n      <td>18</td>\n      <td>女</td>\n      <td>619</td>\n      <td>广州</td>\n    </tr>\n    <tr>\n      <th>6</th>\n      <td>张菲</td>\n      <td>25</td>\n      <td>女</td>\n      <td>701</td>\n      <td>长沙</td>\n    </tr>\n  </tbody>\n</table>\n</div>"
     },
     "metadata": {},
     "execution_count": 3
    }
   ],
   "source": [
    "# 方式1：通过字典直接创建\n",
    "df1 = pd.DataFrame({\n",
    "    \"name\":[\"小明\",\"小红\",\"小孙\",\"王小\",\"关宇\",\"刘蓓\",\"张菲\"],\n",
    "    \"age\":[20,18,27,20,28,18,25],\n",
    "    \"sex\":[\"男\",\"女\",\"男\",\"男\",\"男\",\"女\",\"女\"],\n",
    "    \"score\":[669,570,642,590,601,619,701],\n",
    "    \"address\":[\"北京\",\"深圳\",\"广州\",\"武汉\",\"深圳\",\"广州\",\"长沙\"]\n",
    "})\n",
    "df1\n"
   ]
  },
  {
   "cell_type": "code",
   "execution_count": 4,
   "metadata": {},
   "outputs": [],
   "source": [
    "df1.to_excel('学生信息.xlsx',index=False)"
   ]
  },
  {
   "cell_type": "code",
   "execution_count": 5,
   "metadata": {},
   "outputs": [
    {
     "output_type": "execute_result",
     "data": {
      "text/plain": [
       "  name  age sex  score address\n",
       "0   小明   20   男    669      北京\n",
       "1   小红   18   女    570      深圳\n",
       "2   小孙   27   男    642      广州\n",
       "3   王小   20   男    590      武汉\n",
       "4   关宇   28   男    601      深圳\n",
       "5   刘蓓   18   女    619      广州\n",
       "6   张菲   25   女    701      长沙"
      ],
      "text/html": "<div>\n<style scoped>\n    .dataframe tbody tr th:only-of-type {\n        vertical-align: middle;\n    }\n\n    .dataframe tbody tr th {\n        vertical-align: top;\n    }\n\n    .dataframe thead th {\n        text-align: right;\n    }\n</style>\n<table border=\"1\" class=\"dataframe\">\n  <thead>\n    <tr style=\"text-align: right;\">\n      <th></th>\n      <th>name</th>\n      <th>age</th>\n      <th>sex</th>\n      <th>score</th>\n      <th>address</th>\n    </tr>\n  </thead>\n  <tbody>\n    <tr>\n      <th>0</th>\n      <td>小明</td>\n      <td>20</td>\n      <td>男</td>\n      <td>669</td>\n      <td>北京</td>\n    </tr>\n    <tr>\n      <th>1</th>\n      <td>小红</td>\n      <td>18</td>\n      <td>女</td>\n      <td>570</td>\n      <td>深圳</td>\n    </tr>\n    <tr>\n      <th>2</th>\n      <td>小孙</td>\n      <td>27</td>\n      <td>男</td>\n      <td>642</td>\n      <td>广州</td>\n    </tr>\n    <tr>\n      <th>3</th>\n      <td>王小</td>\n      <td>20</td>\n      <td>男</td>\n      <td>590</td>\n      <td>武汉</td>\n    </tr>\n    <tr>\n      <th>4</th>\n      <td>关宇</td>\n      <td>28</td>\n      <td>男</td>\n      <td>601</td>\n      <td>深圳</td>\n    </tr>\n    <tr>\n      <th>5</th>\n      <td>刘蓓</td>\n      <td>18</td>\n      <td>女</td>\n      <td>619</td>\n      <td>广州</td>\n    </tr>\n    <tr>\n      <th>6</th>\n      <td>张菲</td>\n      <td>25</td>\n      <td>女</td>\n      <td>701</td>\n      <td>长沙</td>\n    </tr>\n  </tbody>\n</table>\n</div>"
     },
     "metadata": {},
     "execution_count": 5
    }
   ],
   "source": [
    "pd.read_excel('学生信息.xlsx')"
   ]
  },
  {
   "cell_type": "code",
   "execution_count": 6,
   "metadata": {},
   "outputs": [
    {
     "output_type": "execute_result",
     "data": {
      "text/plain": [
       "(7, 5)"
      ]
     },
     "metadata": {},
     "execution_count": 6
    }
   ],
   "source": [
    "# shape表示数据是由多少行和列组成：\n",
    "\n",
    "df1.shape"
   ]
  },
  {
   "cell_type": "code",
   "execution_count": 7,
   "metadata": {},
   "outputs": [
    {
     "output_type": "execute_result",
     "data": {
      "text/plain": [
       "Index(['name', 'age', 'sex', 'score', 'address'], dtype='object')"
      ]
     },
     "metadata": {},
     "execution_count": 7
    }
   ],
   "source": [
    "# 查看字段属性名称\n",
    "df1.columns"
   ]
  },
  {
   "cell_type": "code",
   "execution_count": 8,
   "metadata": {},
   "outputs": [
    {
     "output_type": "execute_result",
     "data": {
      "text/plain": [
       "name       object\n",
       "age         int64\n",
       "sex        object\n",
       "score       int64\n",
       "address    object\n",
       "dtype: object"
      ]
     },
     "metadata": {},
     "execution_count": 8
    }
   ],
   "source": [
    "# 查看属性的数据类型\n",
    "df1.dtypes"
   ]
  },
  {
   "cell_type": "code",
   "execution_count": 9,
   "metadata": {},
   "outputs": [
    {
     "output_type": "execute_result",
     "data": {
      "text/plain": [
       "    name    age    sex  score  address\n",
       "0  False  False  False  False    False\n",
       "1  False  False  False  False    False\n",
       "2  False  False  False  False    False\n",
       "3  False  False  False  False    False\n",
       "4  False  False  False  False    False\n",
       "5  False  False  False  False    False\n",
       "6  False  False  False  False    False"
      ],
      "text/html": "<div>\n<style scoped>\n    .dataframe tbody tr th:only-of-type {\n        vertical-align: middle;\n    }\n\n    .dataframe tbody tr th {\n        vertical-align: top;\n    }\n\n    .dataframe thead th {\n        text-align: right;\n    }\n</style>\n<table border=\"1\" class=\"dataframe\">\n  <thead>\n    <tr style=\"text-align: right;\">\n      <th></th>\n      <th>name</th>\n      <th>age</th>\n      <th>sex</th>\n      <th>score</th>\n      <th>address</th>\n    </tr>\n  </thead>\n  <tbody>\n    <tr>\n      <th>0</th>\n      <td>False</td>\n      <td>False</td>\n      <td>False</td>\n      <td>False</td>\n      <td>False</td>\n    </tr>\n    <tr>\n      <th>1</th>\n      <td>False</td>\n      <td>False</td>\n      <td>False</td>\n      <td>False</td>\n      <td>False</td>\n    </tr>\n    <tr>\n      <th>2</th>\n      <td>False</td>\n      <td>False</td>\n      <td>False</td>\n      <td>False</td>\n      <td>False</td>\n    </tr>\n    <tr>\n      <th>3</th>\n      <td>False</td>\n      <td>False</td>\n      <td>False</td>\n      <td>False</td>\n      <td>False</td>\n    </tr>\n    <tr>\n      <th>4</th>\n      <td>False</td>\n      <td>False</td>\n      <td>False</td>\n      <td>False</td>\n      <td>False</td>\n    </tr>\n    <tr>\n      <th>5</th>\n      <td>False</td>\n      <td>False</td>\n      <td>False</td>\n      <td>False</td>\n      <td>False</td>\n    </tr>\n    <tr>\n      <th>6</th>\n      <td>False</td>\n      <td>False</td>\n      <td>False</td>\n      <td>False</td>\n      <td>False</td>\n    </tr>\n  </tbody>\n</table>\n</div>"
     },
     "metadata": {},
     "execution_count": 9
    }
   ],
   "source": [
    "# 查看数据是否缺失\n",
    "df1.isnull() #  # 如果缺失显示为True，否则显示False"
   ]
  },
  {
   "cell_type": "code",
   "execution_count": 10,
   "metadata": {},
   "outputs": [
    {
     "output_type": "execute_result",
     "data": {
      "text/plain": [
       "name       0\n",
       "age        0\n",
       "sex        0\n",
       "score      0\n",
       "address    0\n",
       "dtype: int64"
      ]
     },
     "metadata": {},
     "execution_count": 10
    }
   ],
   "source": [
    "# 统计缺失值的个数。一个True计数一次\n",
    "df1.isnull().sum()"
   ]
  },
  {
   "cell_type": "code",
   "execution_count": 11,
   "metadata": {},
   "outputs": [
    {
     "output_type": "execute_result",
     "data": {
      "text/plain": [
       "RangeIndex(start=0, stop=7, step=1)"
      ]
     },
     "metadata": {},
     "execution_count": 11
    }
   ],
   "source": [
    "# 查看数据行索引\n",
    "df1.index"
   ]
  },
  {
   "cell_type": "code",
   "execution_count": 12,
   "metadata": {},
   "outputs": [
    {
     "output_type": "execute_result",
     "data": {
      "text/plain": [
       "<bound method NDFrame.describe of   name  age sex  score address\n",
       "0   小明   20   男    669      北京\n",
       "1   小红   18   女    570      深圳\n",
       "2   小孙   27   男    642      广州\n",
       "3   王小   20   男    590      武汉\n",
       "4   关宇   28   男    601      深圳\n",
       "5   刘蓓   18   女    619      广州\n",
       "6   张菲   25   女    701      长沙>"
      ]
     },
     "metadata": {},
     "execution_count": 12
    }
   ],
   "source": [
    "# 查看数据描述信息\n",
    "df1.describe"
   ]
  },
  {
   "cell_type": "code",
   "execution_count": 13,
   "metadata": {},
   "outputs": [
    {
     "output_type": "execute_result",
     "data": {
      "text/plain": [
       "             age       score\n",
       "count   7.000000    7.000000\n",
       "mean   22.285714  627.428571\n",
       "std     4.270608   46.227182\n",
       "min    18.000000  570.000000\n",
       "25%    19.000000  595.500000\n",
       "50%    20.000000  619.000000\n",
       "75%    26.000000  655.500000\n",
       "max    28.000000  701.000000"
      ],
      "text/html": "<div>\n<style scoped>\n    .dataframe tbody tr th:only-of-type {\n        vertical-align: middle;\n    }\n\n    .dataframe tbody tr th {\n        vertical-align: top;\n    }\n\n    .dataframe thead th {\n        text-align: right;\n    }\n</style>\n<table border=\"1\" class=\"dataframe\">\n  <thead>\n    <tr style=\"text-align: right;\">\n      <th></th>\n      <th>age</th>\n      <th>score</th>\n    </tr>\n  </thead>\n  <tbody>\n    <tr>\n      <th>count</th>\n      <td>7.000000</td>\n      <td>7.000000</td>\n    </tr>\n    <tr>\n      <th>mean</th>\n      <td>22.285714</td>\n      <td>627.428571</td>\n    </tr>\n    <tr>\n      <th>std</th>\n      <td>4.270608</td>\n      <td>46.227182</td>\n    </tr>\n    <tr>\n      <th>min</th>\n      <td>18.000000</td>\n      <td>570.000000</td>\n    </tr>\n    <tr>\n      <th>25%</th>\n      <td>19.000000</td>\n      <td>595.500000</td>\n    </tr>\n    <tr>\n      <th>50%</th>\n      <td>20.000000</td>\n      <td>619.000000</td>\n    </tr>\n    <tr>\n      <th>75%</th>\n      <td>26.000000</td>\n      <td>655.500000</td>\n    </tr>\n    <tr>\n      <th>max</th>\n      <td>28.000000</td>\n      <td>701.000000</td>\n    </tr>\n  </tbody>\n</table>\n</div>"
     },
     "metadata": {},
     "execution_count": 13
    }
   ],
   "source": [
    "# 查看数据统计值\n",
    "df1.describe() # 统计值信息只会显示类型为数值型的数据统计值信息：\n",
    "# 统计值的结果包含：个数count、均值mean、方差std、最值min\\max、四分位数25%、中位数50%、四分之三分位数75%。"
   ]
  },
  {
   "cell_type": "code",
   "execution_count": 14,
   "metadata": {},
   "outputs": [
    {
     "output_type": "execute_result",
     "data": {
      "text/plain": [
       "  name  age sex  score address\n",
       "0   小明   20   男    669      北京\n",
       "1   小红   18   女    570      深圳\n",
       "2   小孙   27   男    642      广州\n",
       "3   王小   20   男    590      武汉\n",
       "4   关宇   28   男    601      深圳"
      ],
      "text/html": "<div>\n<style scoped>\n    .dataframe tbody tr th:only-of-type {\n        vertical-align: middle;\n    }\n\n    .dataframe tbody tr th {\n        vertical-align: top;\n    }\n\n    .dataframe thead th {\n        text-align: right;\n    }\n</style>\n<table border=\"1\" class=\"dataframe\">\n  <thead>\n    <tr style=\"text-align: right;\">\n      <th></th>\n      <th>name</th>\n      <th>age</th>\n      <th>sex</th>\n      <th>score</th>\n      <th>address</th>\n    </tr>\n  </thead>\n  <tbody>\n    <tr>\n      <th>0</th>\n      <td>小明</td>\n      <td>20</td>\n      <td>男</td>\n      <td>669</td>\n      <td>北京</td>\n    </tr>\n    <tr>\n      <th>1</th>\n      <td>小红</td>\n      <td>18</td>\n      <td>女</td>\n      <td>570</td>\n      <td>深圳</td>\n    </tr>\n    <tr>\n      <th>2</th>\n      <td>小孙</td>\n      <td>27</td>\n      <td>男</td>\n      <td>642</td>\n      <td>广州</td>\n    </tr>\n    <tr>\n      <th>3</th>\n      <td>王小</td>\n      <td>20</td>\n      <td>男</td>\n      <td>590</td>\n      <td>武汉</td>\n    </tr>\n    <tr>\n      <th>4</th>\n      <td>关宇</td>\n      <td>28</td>\n      <td>男</td>\n      <td>601</td>\n      <td>深圳</td>\n    </tr>\n  </tbody>\n</table>\n</div>"
     },
     "metadata": {},
     "execution_count": 14
    }
   ],
   "source": [
    "# 03 查看头尾文件\n",
    "# 通过head和tail方法能够快速查看数据的头尾文件。\n",
    "df1.head()   # 默认是查看前5行数据\n"
   ]
  },
  {
   "cell_type": "code",
   "execution_count": 15,
   "metadata": {},
   "outputs": [
    {
     "output_type": "execute_result",
     "data": {
      "text/plain": [
       "  name  age sex  score address\n",
       "0   小明   20   男    669      北京\n",
       "1   小红   18   女    570      深圳\n",
       "2   小孙   27   男    642      广州"
      ],
      "text/html": "<div>\n<style scoped>\n    .dataframe tbody tr th:only-of-type {\n        vertical-align: middle;\n    }\n\n    .dataframe tbody tr th {\n        vertical-align: top;\n    }\n\n    .dataframe thead th {\n        text-align: right;\n    }\n</style>\n<table border=\"1\" class=\"dataframe\">\n  <thead>\n    <tr style=\"text-align: right;\">\n      <th></th>\n      <th>name</th>\n      <th>age</th>\n      <th>sex</th>\n      <th>score</th>\n      <th>address</th>\n    </tr>\n  </thead>\n  <tbody>\n    <tr>\n      <th>0</th>\n      <td>小明</td>\n      <td>20</td>\n      <td>男</td>\n      <td>669</td>\n      <td>北京</td>\n    </tr>\n    <tr>\n      <th>1</th>\n      <td>小红</td>\n      <td>18</td>\n      <td>女</td>\n      <td>570</td>\n      <td>深圳</td>\n    </tr>\n    <tr>\n      <th>2</th>\n      <td>小孙</td>\n      <td>27</td>\n      <td>男</td>\n      <td>642</td>\n      <td>广州</td>\n    </tr>\n  </tbody>\n</table>\n</div>"
     },
     "metadata": {},
     "execution_count": 15
    }
   ],
   "source": [
    "df1.head(3)  # 指定显示的行数\n"
   ]
  },
  {
   "cell_type": "code",
   "execution_count": 16,
   "metadata": {},
   "outputs": [
    {
     "output_type": "execute_result",
     "data": {
      "text/plain": [
       "  name  age sex  score address\n",
       "2   小孙   27   男    642      广州\n",
       "3   王小   20   男    590      武汉\n",
       "4   关宇   28   男    601      深圳\n",
       "5   刘蓓   18   女    619      广州\n",
       "6   张菲   25   女    701      长沙"
      ],
      "text/html": "<div>\n<style scoped>\n    .dataframe tbody tr th:only-of-type {\n        vertical-align: middle;\n    }\n\n    .dataframe tbody tr th {\n        vertical-align: top;\n    }\n\n    .dataframe thead th {\n        text-align: right;\n    }\n</style>\n<table border=\"1\" class=\"dataframe\">\n  <thead>\n    <tr style=\"text-align: right;\">\n      <th></th>\n      <th>name</th>\n      <th>age</th>\n      <th>sex</th>\n      <th>score</th>\n      <th>address</th>\n    </tr>\n  </thead>\n  <tbody>\n    <tr>\n      <th>2</th>\n      <td>小孙</td>\n      <td>27</td>\n      <td>男</td>\n      <td>642</td>\n      <td>广州</td>\n    </tr>\n    <tr>\n      <th>3</th>\n      <td>王小</td>\n      <td>20</td>\n      <td>男</td>\n      <td>590</td>\n      <td>武汉</td>\n    </tr>\n    <tr>\n      <th>4</th>\n      <td>关宇</td>\n      <td>28</td>\n      <td>男</td>\n      <td>601</td>\n      <td>深圳</td>\n    </tr>\n    <tr>\n      <th>5</th>\n      <td>刘蓓</td>\n      <td>18</td>\n      <td>女</td>\n      <td>619</td>\n      <td>广州</td>\n    </tr>\n    <tr>\n      <th>6</th>\n      <td>张菲</td>\n      <td>25</td>\n      <td>女</td>\n      <td>701</td>\n      <td>长沙</td>\n    </tr>\n  </tbody>\n</table>\n</div>"
     },
     "metadata": {},
     "execution_count": 16
    }
   ],
   "source": [
    "df1.tail()    # 默认尾部5行\n"
   ]
  },
  {
   "cell_type": "code",
   "execution_count": 17,
   "metadata": {},
   "outputs": [
    {
     "output_type": "execute_result",
     "data": {
      "text/plain": [
       "  name  age sex  score address\n",
       "4   关宇   28   男    601      深圳\n",
       "5   刘蓓   18   女    619      广州\n",
       "6   张菲   25   女    701      长沙"
      ],
      "text/html": "<div>\n<style scoped>\n    .dataframe tbody tr th:only-of-type {\n        vertical-align: middle;\n    }\n\n    .dataframe tbody tr th {\n        vertical-align: top;\n    }\n\n    .dataframe thead th {\n        text-align: right;\n    }\n</style>\n<table border=\"1\" class=\"dataframe\">\n  <thead>\n    <tr style=\"text-align: right;\">\n      <th></th>\n      <th>name</th>\n      <th>age</th>\n      <th>sex</th>\n      <th>score</th>\n      <th>address</th>\n    </tr>\n  </thead>\n  <tbody>\n    <tr>\n      <th>4</th>\n      <td>关宇</td>\n      <td>28</td>\n      <td>男</td>\n      <td>601</td>\n      <td>深圳</td>\n    </tr>\n    <tr>\n      <th>5</th>\n      <td>刘蓓</td>\n      <td>18</td>\n      <td>女</td>\n      <td>619</td>\n      <td>广州</td>\n    </tr>\n    <tr>\n      <th>6</th>\n      <td>张菲</td>\n      <td>25</td>\n      <td>女</td>\n      <td>701</td>\n      <td>长沙</td>\n    </tr>\n  </tbody>\n</table>\n</div>"
     },
     "metadata": {},
     "execution_count": 17
    }
   ],
   "source": [
    "df1.tail(3)   # 指定尾部3行数据\n"
   ]
  },
  {
   "cell_type": "code",
   "execution_count": 18,
   "metadata": {},
   "outputs": [
    {
     "output_type": "execute_result",
     "data": {
      "text/plain": [
       "0    小明\n",
       "1    小红\n",
       "2    小孙\n",
       "3    王小\n",
       "4    关宇\n",
       "5    刘蓓\n",
       "6    张菲\n",
       "Name: name, dtype: object"
      ]
     },
     "metadata": {},
     "execution_count": 18
    }
   ],
   "source": [
    "# 04 花样取数\n",
    "# 从pandas的DataFrame数据框中取出我们想要的数据，然后进行处理\n",
    "# 取出某个字段的数据\n",
    "# 我们取出name这列的数据：\n",
    "name=df1['name']\n",
    "name\n"
   ]
  },
  {
   "cell_type": "code",
   "execution_count": 19,
   "metadata": {},
   "outputs": [
    {
     "output_type": "execute_result",
     "data": {
      "text/plain": [
       "  name  age\n",
       "0   小明   20\n",
       "1   小红   18\n",
       "2   小孙   27\n",
       "3   王小   20\n",
       "4   关宇   28\n",
       "5   刘蓓   18\n",
       "6   张菲   25"
      ],
      "text/html": "<div>\n<style scoped>\n    .dataframe tbody tr th:only-of-type {\n        vertical-align: middle;\n    }\n\n    .dataframe tbody tr th {\n        vertical-align: top;\n    }\n\n    .dataframe thead th {\n        text-align: right;\n    }\n</style>\n<table border=\"1\" class=\"dataframe\">\n  <thead>\n    <tr style=\"text-align: right;\">\n      <th></th>\n      <th>name</th>\n      <th>age</th>\n    </tr>\n  </thead>\n  <tbody>\n    <tr>\n      <th>0</th>\n      <td>小明</td>\n      <td>20</td>\n    </tr>\n    <tr>\n      <th>1</th>\n      <td>小红</td>\n      <td>18</td>\n    </tr>\n    <tr>\n      <th>2</th>\n      <td>小孙</td>\n      <td>27</td>\n    </tr>\n    <tr>\n      <th>3</th>\n      <td>王小</td>\n      <td>20</td>\n    </tr>\n    <tr>\n      <th>4</th>\n      <td>关宇</td>\n      <td>28</td>\n    </tr>\n    <tr>\n      <th>5</th>\n      <td>刘蓓</td>\n      <td>18</td>\n    </tr>\n    <tr>\n      <th>6</th>\n      <td>张菲</td>\n      <td>25</td>\n    </tr>\n  </tbody>\n</table>\n</div>"
     },
     "metadata": {},
     "execution_count": 19
    }
   ],
   "source": [
    "# 取出多个字段的数据\n",
    "name_age = df1[['name','age']]\n",
    "name_age"
   ]
  },
  {
   "cell_type": "code",
   "execution_count": 20,
   "metadata": {},
   "outputs": [
    {
     "output_type": "execute_result",
     "data": {
      "text/plain": [
       "   age  score\n",
       "0   20    669\n",
       "1   18    570\n",
       "2   27    642\n",
       "3   20    590\n",
       "4   28    601\n",
       "5   18    619\n",
       "6   25    701"
      ],
      "text/html": "<div>\n<style scoped>\n    .dataframe tbody tr th:only-of-type {\n        vertical-align: middle;\n    }\n\n    .dataframe tbody tr th {\n        vertical-align: top;\n    }\n\n    .dataframe thead th {\n        text-align: right;\n    }\n</style>\n<table border=\"1\" class=\"dataframe\">\n  <thead>\n    <tr style=\"text-align: right;\">\n      <th></th>\n      <th>age</th>\n      <th>score</th>\n    </tr>\n  </thead>\n  <tbody>\n    <tr>\n      <th>0</th>\n      <td>20</td>\n      <td>669</td>\n    </tr>\n    <tr>\n      <th>1</th>\n      <td>18</td>\n      <td>570</td>\n    </tr>\n    <tr>\n      <th>2</th>\n      <td>27</td>\n      <td>642</td>\n    </tr>\n    <tr>\n      <th>3</th>\n      <td>20</td>\n      <td>590</td>\n    </tr>\n    <tr>\n      <th>4</th>\n      <td>28</td>\n      <td>601</td>\n    </tr>\n    <tr>\n      <th>5</th>\n      <td>18</td>\n      <td>619</td>\n    </tr>\n    <tr>\n      <th>6</th>\n      <td>25</td>\n      <td>701</td>\n    </tr>\n  </tbody>\n</table>\n</div>"
     },
     "metadata": {},
     "execution_count": 20
    }
   ],
   "source": [
    "# 1、选择单个数据类型\n",
    "df1.select_dtypes(include='int64')"
   ]
  },
  {
   "cell_type": "code",
   "execution_count": 22,
   "metadata": {},
   "outputs": [
    {
     "output_type": "execute_result",
     "data": {
      "text/plain": [
       "  name  age sex  score address\n",
       "0   小明   20   男    669      北京\n",
       "1   小红   18   女    570      深圳\n",
       "2   小孙   27   男    642      广州\n",
       "3   王小   20   男    590      武汉\n",
       "4   关宇   28   男    601      深圳\n",
       "5   刘蓓   18   女    619      广州\n",
       "6   张菲   25   女    701      长沙"
      ],
      "text/html": "<div>\n<style scoped>\n    .dataframe tbody tr th:only-of-type {\n        vertical-align: middle;\n    }\n\n    .dataframe tbody tr th {\n        vertical-align: top;\n    }\n\n    .dataframe thead th {\n        text-align: right;\n    }\n</style>\n<table border=\"1\" class=\"dataframe\">\n  <thead>\n    <tr style=\"text-align: right;\">\n      <th></th>\n      <th>name</th>\n      <th>age</th>\n      <th>sex</th>\n      <th>score</th>\n      <th>address</th>\n    </tr>\n  </thead>\n  <tbody>\n    <tr>\n      <th>0</th>\n      <td>小明</td>\n      <td>20</td>\n      <td>男</td>\n      <td>669</td>\n      <td>北京</td>\n    </tr>\n    <tr>\n      <th>1</th>\n      <td>小红</td>\n      <td>18</td>\n      <td>女</td>\n      <td>570</td>\n      <td>深圳</td>\n    </tr>\n    <tr>\n      <th>2</th>\n      <td>小孙</td>\n      <td>27</td>\n      <td>男</td>\n      <td>642</td>\n      <td>广州</td>\n    </tr>\n    <tr>\n      <th>3</th>\n      <td>王小</td>\n      <td>20</td>\n      <td>男</td>\n      <td>590</td>\n      <td>武汉</td>\n    </tr>\n    <tr>\n      <th>4</th>\n      <td>关宇</td>\n      <td>28</td>\n      <td>男</td>\n      <td>601</td>\n      <td>深圳</td>\n    </tr>\n    <tr>\n      <th>5</th>\n      <td>刘蓓</td>\n      <td>18</td>\n      <td>女</td>\n      <td>619</td>\n      <td>广州</td>\n    </tr>\n    <tr>\n      <th>6</th>\n      <td>张菲</td>\n      <td>25</td>\n      <td>女</td>\n      <td>701</td>\n      <td>长沙</td>\n    </tr>\n  </tbody>\n</table>\n</div>"
     },
     "metadata": {},
     "execution_count": 22
    }
   ],
   "source": [
    "# 2、同时选择多个类型\n",
    "df1.select_dtypes(include=['int64','object']) # 因为数据中只有int64,object，所以我们全部选出来了。"
   ]
  },
  {
   "cell_type": "code",
   "execution_count": 23,
   "metadata": {},
   "outputs": [
    {
     "output_type": "execute_result",
     "data": {
      "text/plain": [
       "  name sex address\n",
       "0   小明   男      北京\n",
       "1   小红   女      深圳\n",
       "2   小孙   男      广州\n",
       "3   王小   男      武汉\n",
       "4   关宇   男      深圳\n",
       "5   刘蓓   女      广州\n",
       "6   张菲   女      长沙"
      ],
      "text/html": "<div>\n<style scoped>\n    .dataframe tbody tr th:only-of-type {\n        vertical-align: middle;\n    }\n\n    .dataframe tbody tr th {\n        vertical-align: top;\n    }\n\n    .dataframe thead th {\n        text-align: right;\n    }\n</style>\n<table border=\"1\" class=\"dataframe\">\n  <thead>\n    <tr style=\"text-align: right;\">\n      <th></th>\n      <th>name</th>\n      <th>sex</th>\n      <th>address</th>\n    </tr>\n  </thead>\n  <tbody>\n    <tr>\n      <th>0</th>\n      <td>小明</td>\n      <td>男</td>\n      <td>北京</td>\n    </tr>\n    <tr>\n      <th>1</th>\n      <td>小红</td>\n      <td>女</td>\n      <td>深圳</td>\n    </tr>\n    <tr>\n      <th>2</th>\n      <td>小孙</td>\n      <td>男</td>\n      <td>广州</td>\n    </tr>\n    <tr>\n      <th>3</th>\n      <td>王小</td>\n      <td>男</td>\n      <td>武汉</td>\n    </tr>\n    <tr>\n      <th>4</th>\n      <td>关宇</td>\n      <td>男</td>\n      <td>深圳</td>\n    </tr>\n    <tr>\n      <th>5</th>\n      <td>刘蓓</td>\n      <td>女</td>\n      <td>广州</td>\n    </tr>\n    <tr>\n      <th>6</th>\n      <td>张菲</td>\n      <td>女</td>\n      <td>长沙</td>\n    </tr>\n  </tbody>\n</table>\n</div>"
     },
     "metadata": {},
     "execution_count": 23
    }
   ],
   "source": [
    "# 选择排除某些数据类型之外的数据：\n",
    "df1.select_dtypes(exclude='int64') # 选择除了int64类型之外的数据\n"
   ]
  },
  {
   "cell_type": "code",
   "execution_count": 24,
   "metadata": {},
   "outputs": [
    {
     "output_type": "execute_result",
     "data": {
      "text/plain": [
       "  name  age sex  score address\n",
       "0   小明   20   男    669      北京\n",
       "3   王小   20   男    590      武汉"
      ],
      "text/html": "<div>\n<style scoped>\n    .dataframe tbody tr th:only-of-type {\n        vertical-align: middle;\n    }\n\n    .dataframe tbody tr th {\n        vertical-align: top;\n    }\n\n    .dataframe thead th {\n        text-align: right;\n    }\n</style>\n<table border=\"1\" class=\"dataframe\">\n  <thead>\n    <tr style=\"text-align: right;\">\n      <th></th>\n      <th>name</th>\n      <th>age</th>\n      <th>sex</th>\n      <th>score</th>\n      <th>address</th>\n    </tr>\n  </thead>\n  <tbody>\n    <tr>\n      <th>0</th>\n      <td>小明</td>\n      <td>20</td>\n      <td>男</td>\n      <td>669</td>\n      <td>北京</td>\n    </tr>\n    <tr>\n      <th>3</th>\n      <td>王小</td>\n      <td>20</td>\n      <td>男</td>\n      <td>590</td>\n      <td>武汉</td>\n    </tr>\n  </tbody>\n</table>\n</div>"
     },
     "metadata": {},
     "execution_count": 24
    }
   ],
   "source": [
    "# 1、直接通过判断大小来取数：\n",
    "df1[df1['age']==20] # 年龄等于20"
   ]
  },
  {
   "cell_type": "code",
   "execution_count": 25,
   "metadata": {},
   "outputs": [
    {
     "output_type": "execute_result",
     "data": {
      "text/plain": [
       "  name  age sex  score address\n",
       "1   小红   18   女    570      深圳\n",
       "2   小孙   27   男    642      广州\n",
       "4   关宇   28   男    601      深圳\n",
       "5   刘蓓   18   女    619      广州\n",
       "6   张菲   25   女    701      长沙"
      ],
      "text/html": "<div>\n<style scoped>\n    .dataframe tbody tr th:only-of-type {\n        vertical-align: middle;\n    }\n\n    .dataframe tbody tr th {\n        vertical-align: top;\n    }\n\n    .dataframe thead th {\n        text-align: right;\n    }\n</style>\n<table border=\"1\" class=\"dataframe\">\n  <thead>\n    <tr style=\"text-align: right;\">\n      <th></th>\n      <th>name</th>\n      <th>age</th>\n      <th>sex</th>\n      <th>score</th>\n      <th>address</th>\n    </tr>\n  </thead>\n  <tbody>\n    <tr>\n      <th>1</th>\n      <td>小红</td>\n      <td>18</td>\n      <td>女</td>\n      <td>570</td>\n      <td>深圳</td>\n    </tr>\n    <tr>\n      <th>2</th>\n      <td>小孙</td>\n      <td>27</td>\n      <td>男</td>\n      <td>642</td>\n      <td>广州</td>\n    </tr>\n    <tr>\n      <th>4</th>\n      <td>关宇</td>\n      <td>28</td>\n      <td>男</td>\n      <td>601</td>\n      <td>深圳</td>\n    </tr>\n    <tr>\n      <th>5</th>\n      <td>刘蓓</td>\n      <td>18</td>\n      <td>女</td>\n      <td>619</td>\n      <td>广州</td>\n    </tr>\n    <tr>\n      <th>6</th>\n      <td>张菲</td>\n      <td>25</td>\n      <td>女</td>\n      <td>701</td>\n      <td>长沙</td>\n    </tr>\n  </tbody>\n</table>\n</div>"
     },
     "metadata": {},
     "execution_count": 25
    }
   ],
   "source": [
    "df1[df1['age']!=20] # 年龄不等于20"
   ]
  },
  {
   "cell_type": "code",
   "execution_count": 26,
   "metadata": {},
   "outputs": [
    {
     "output_type": "execute_result",
     "data": {
      "text/plain": [
       "  name  age sex  score address\n",
       "0   小明   20   男    669      北京\n",
       "2   小孙   27   男    642      广州\n",
       "3   王小   20   男    590      武汉\n",
       "4   关宇   28   男    601      深圳\n",
       "6   张菲   25   女    701      长沙"
      ],
      "text/html": "<div>\n<style scoped>\n    .dataframe tbody tr th:only-of-type {\n        vertical-align: middle;\n    }\n\n    .dataframe tbody tr th {\n        vertical-align: top;\n    }\n\n    .dataframe thead th {\n        text-align: right;\n    }\n</style>\n<table border=\"1\" class=\"dataframe\">\n  <thead>\n    <tr style=\"text-align: right;\">\n      <th></th>\n      <th>name</th>\n      <th>age</th>\n      <th>sex</th>\n      <th>score</th>\n      <th>address</th>\n    </tr>\n  </thead>\n  <tbody>\n    <tr>\n      <th>0</th>\n      <td>小明</td>\n      <td>20</td>\n      <td>男</td>\n      <td>669</td>\n      <td>北京</td>\n    </tr>\n    <tr>\n      <th>2</th>\n      <td>小孙</td>\n      <td>27</td>\n      <td>男</td>\n      <td>642</td>\n      <td>广州</td>\n    </tr>\n    <tr>\n      <th>3</th>\n      <td>王小</td>\n      <td>20</td>\n      <td>男</td>\n      <td>590</td>\n      <td>武汉</td>\n    </tr>\n    <tr>\n      <th>4</th>\n      <td>关宇</td>\n      <td>28</td>\n      <td>男</td>\n      <td>601</td>\n      <td>深圳</td>\n    </tr>\n    <tr>\n      <th>6</th>\n      <td>张菲</td>\n      <td>25</td>\n      <td>女</td>\n      <td>701</td>\n      <td>长沙</td>\n    </tr>\n  </tbody>\n</table>\n</div>"
     },
     "metadata": {},
     "execution_count": 26
    }
   ],
   "source": [
    "df1[df1['age']>=20] # 年龄大于等于20"
   ]
  },
  {
   "cell_type": "code",
   "execution_count": 28,
   "metadata": {},
   "outputs": [
    {
     "output_type": "execute_result",
     "data": {
      "text/plain": [
       "  name  age sex  score address\n",
       "0   小明   20   男    669      北京\n",
       "3   王小   20   男    590      武汉\n",
       "6   张菲   25   女    701      长沙"
      ],
      "text/html": "<div>\n<style scoped>\n    .dataframe tbody tr th:only-of-type {\n        vertical-align: middle;\n    }\n\n    .dataframe tbody tr th {\n        vertical-align: top;\n    }\n\n    .dataframe thead th {\n        text-align: right;\n    }\n</style>\n<table border=\"1\" class=\"dataframe\">\n  <thead>\n    <tr style=\"text-align: right;\">\n      <th></th>\n      <th>name</th>\n      <th>age</th>\n      <th>sex</th>\n      <th>score</th>\n      <th>address</th>\n    </tr>\n  </thead>\n  <tbody>\n    <tr>\n      <th>0</th>\n      <td>小明</td>\n      <td>20</td>\n      <td>男</td>\n      <td>669</td>\n      <td>北京</td>\n    </tr>\n    <tr>\n      <th>3</th>\n      <td>王小</td>\n      <td>20</td>\n      <td>男</td>\n      <td>590</td>\n      <td>武汉</td>\n    </tr>\n    <tr>\n      <th>6</th>\n      <td>张菲</td>\n      <td>25</td>\n      <td>女</td>\n      <td>701</td>\n      <td>长沙</td>\n    </tr>\n  </tbody>\n</table>\n</div>"
     },
     "metadata": {},
     "execution_count": 28
    }
   ],
   "source": [
    "# 多个判断条件连用\n",
    "df1[(df1[\"age\"] >= 20) & (df1[\"age\"] < 27)]\n"
   ]
  },
  {
   "cell_type": "code",
   "execution_count": 29,
   "metadata": {},
   "outputs": [
    {
     "output_type": "execute_result",
     "data": {
      "text/plain": [
       "  name  age sex  score address\n",
       "0   小明   20   男    669      北京"
      ],
      "text/html": "<div>\n<style scoped>\n    .dataframe tbody tr th:only-of-type {\n        vertical-align: middle;\n    }\n\n    .dataframe tbody tr th {\n        vertical-align: top;\n    }\n\n    .dataframe thead th {\n        text-align: right;\n    }\n</style>\n<table border=\"1\" class=\"dataframe\">\n  <thead>\n    <tr style=\"text-align: right;\">\n      <th></th>\n      <th>name</th>\n      <th>age</th>\n      <th>sex</th>\n      <th>score</th>\n      <th>address</th>\n    </tr>\n  </thead>\n  <tbody>\n    <tr>\n      <th>0</th>\n      <td>小明</td>\n      <td>20</td>\n      <td>男</td>\n      <td>669</td>\n      <td>北京</td>\n    </tr>\n  </tbody>\n</table>\n</div>"
     },
     "metadata": {},
     "execution_count": 29
    }
   ],
   "source": [
    "# 根据字符串取数\n",
    "# 1、通过单个条件取数\n",
    "# 1、单条数据\n",
    "df1[df1[\"name\"] == \"小明\"]\n"
   ]
  },
  {
   "cell_type": "code",
   "execution_count": 30,
   "metadata": {},
   "outputs": [
    {
     "output_type": "execute_result",
     "data": {
      "text/plain": [
       "  name  age sex  score address\n",
       "0   小明   20   男    669      北京\n",
       "2   小孙   27   男    642      广州\n",
       "4   关宇   28   男    601      深圳"
      ],
      "text/html": "<div>\n<style scoped>\n    .dataframe tbody tr th:only-of-type {\n        vertical-align: middle;\n    }\n\n    .dataframe tbody tr th {\n        vertical-align: top;\n    }\n\n    .dataframe thead th {\n        text-align: right;\n    }\n</style>\n<table border=\"1\" class=\"dataframe\">\n  <thead>\n    <tr style=\"text-align: right;\">\n      <th></th>\n      <th>name</th>\n      <th>age</th>\n      <th>sex</th>\n      <th>score</th>\n      <th>address</th>\n    </tr>\n  </thead>\n  <tbody>\n    <tr>\n      <th>0</th>\n      <td>小明</td>\n      <td>20</td>\n      <td>男</td>\n      <td>669</td>\n      <td>北京</td>\n    </tr>\n    <tr>\n      <th>2</th>\n      <td>小孙</td>\n      <td>27</td>\n      <td>男</td>\n      <td>642</td>\n      <td>广州</td>\n    </tr>\n    <tr>\n      <th>4</th>\n      <td>关宇</td>\n      <td>28</td>\n      <td>男</td>\n      <td>601</td>\n      <td>深圳</td>\n    </tr>\n  </tbody>\n</table>\n</div>"
     },
     "metadata": {},
     "execution_count": 30
    }
   ],
   "source": [
    "# 2、通过多个条件取数\n",
    "# 选择姓名是小明，或者年龄大于25的数据\n",
    "\n",
    "df1[(df1['name']=='小明') | (df1['age']>25)]"
   ]
  },
  {
   "cell_type": "code",
   "execution_count": 31,
   "metadata": {},
   "outputs": [
    {
     "output_type": "execute_result",
     "data": {
      "text/plain": [
       "  name  age sex  score address\n",
       "0   小明   20   男    669      北京\n",
       "1   小红   18   女    570      深圳\n",
       "2   小孙   27   男    642      广州"
      ],
      "text/html": "<div>\n<style scoped>\n    .dataframe tbody tr th:only-of-type {\n        vertical-align: middle;\n    }\n\n    .dataframe tbody tr th {\n        vertical-align: top;\n    }\n\n    .dataframe thead th {\n        text-align: right;\n    }\n</style>\n<table border=\"1\" class=\"dataframe\">\n  <thead>\n    <tr style=\"text-align: right;\">\n      <th></th>\n      <th>name</th>\n      <th>age</th>\n      <th>sex</th>\n      <th>score</th>\n      <th>address</th>\n    </tr>\n  </thead>\n  <tbody>\n    <tr>\n      <th>0</th>\n      <td>小明</td>\n      <td>20</td>\n      <td>男</td>\n      <td>669</td>\n      <td>北京</td>\n    </tr>\n    <tr>\n      <th>1</th>\n      <td>小红</td>\n      <td>18</td>\n      <td>女</td>\n      <td>570</td>\n      <td>深圳</td>\n    </tr>\n    <tr>\n      <th>2</th>\n      <td>小孙</td>\n      <td>27</td>\n      <td>男</td>\n      <td>642</td>\n      <td>广州</td>\n    </tr>\n  </tbody>\n</table>\n</div>"
     },
     "metadata": {},
     "execution_count": 31
    }
   ],
   "source": [
    "# 字符串的开始、结尾、包含函数\n",
    "# str.startswith(string)\n",
    "# str.endswith(string)\n",
    "# str.contains(string)\n",
    "# 1、取出以“小”开头的姓名\n",
    "df1[df1['name'].str.startswith('小')]\n"
   ]
  },
  {
   "cell_type": "code",
   "execution_count": 32,
   "metadata": {},
   "outputs": [
    {
     "output_type": "execute_result",
     "data": {
      "text/plain": [
       "  name  age sex  score address\n",
       "4   关宇   28   男    601      深圳"
      ],
      "text/html": "<div>\n<style scoped>\n    .dataframe tbody tr th:only-of-type {\n        vertical-align: middle;\n    }\n\n    .dataframe tbody tr th {\n        vertical-align: top;\n    }\n\n    .dataframe thead th {\n        text-align: right;\n    }\n</style>\n<table border=\"1\" class=\"dataframe\">\n  <thead>\n    <tr style=\"text-align: right;\">\n      <th></th>\n      <th>name</th>\n      <th>age</th>\n      <th>sex</th>\n      <th>score</th>\n      <th>address</th>\n    </tr>\n  </thead>\n  <tbody>\n    <tr>\n      <th>4</th>\n      <td>关宇</td>\n      <td>28</td>\n      <td>男</td>\n      <td>601</td>\n      <td>深圳</td>\n    </tr>\n  </tbody>\n</table>\n</div>"
     },
     "metadata": {},
     "execution_count": 32
    }
   ],
   "source": [
    "# 以“关”开始\n",
    "df1[df1['name'].str.startswith('关')]"
   ]
  },
  {
   "cell_type": "code",
   "execution_count": 33,
   "metadata": {},
   "outputs": [
    {
     "output_type": "execute_result",
     "data": {
      "text/plain": [
       "  name  age sex  score address\n",
       "6   张菲   25   女    701      长沙"
      ],
      "text/html": "<div>\n<style scoped>\n    .dataframe tbody tr th:only-of-type {\n        vertical-align: middle;\n    }\n\n    .dataframe tbody tr th {\n        vertical-align: top;\n    }\n\n    .dataframe thead th {\n        text-align: right;\n    }\n</style>\n<table border=\"1\" class=\"dataframe\">\n  <thead>\n    <tr style=\"text-align: right;\">\n      <th></th>\n      <th>name</th>\n      <th>age</th>\n      <th>sex</th>\n      <th>score</th>\n      <th>address</th>\n    </tr>\n  </thead>\n  <tbody>\n    <tr>\n      <th>6</th>\n      <td>张菲</td>\n      <td>25</td>\n      <td>女</td>\n      <td>701</td>\n      <td>长沙</td>\n    </tr>\n  </tbody>\n</table>\n</div>"
     },
     "metadata": {},
     "execution_count": 33
    }
   ],
   "source": [
    "# 3、以“菲”结尾\n",
    "df1[df1['name'].str.endswith('菲')]"
   ]
  },
  {
   "cell_type": "code",
   "execution_count": 34,
   "metadata": {},
   "outputs": [
    {
     "output_type": "execute_result",
     "data": {
      "text/plain": [
       "  name  age sex  score address\n",
       "0   小明   20   男    669      北京\n",
       "1   小红   18   女    570      深圳\n",
       "2   小孙   27   男    642      广州\n",
       "3   王小   20   男    590      武汉"
      ],
      "text/html": "<div>\n<style scoped>\n    .dataframe tbody tr th:only-of-type {\n        vertical-align: middle;\n    }\n\n    .dataframe tbody tr th {\n        vertical-align: top;\n    }\n\n    .dataframe thead th {\n        text-align: right;\n    }\n</style>\n<table border=\"1\" class=\"dataframe\">\n  <thead>\n    <tr style=\"text-align: right;\">\n      <th></th>\n      <th>name</th>\n      <th>age</th>\n      <th>sex</th>\n      <th>score</th>\n      <th>address</th>\n    </tr>\n  </thead>\n  <tbody>\n    <tr>\n      <th>0</th>\n      <td>小明</td>\n      <td>20</td>\n      <td>男</td>\n      <td>669</td>\n      <td>北京</td>\n    </tr>\n    <tr>\n      <th>1</th>\n      <td>小红</td>\n      <td>18</td>\n      <td>女</td>\n      <td>570</td>\n      <td>深圳</td>\n    </tr>\n    <tr>\n      <th>2</th>\n      <td>小孙</td>\n      <td>27</td>\n      <td>男</td>\n      <td>642</td>\n      <td>广州</td>\n    </tr>\n    <tr>\n      <th>3</th>\n      <td>王小</td>\n      <td>20</td>\n      <td>男</td>\n      <td>590</td>\n      <td>武汉</td>\n    </tr>\n  </tbody>\n</table>\n</div>"
     },
     "metadata": {},
     "execution_count": 34
    }
   ],
   "source": [
    "# 取出包含“小”的数据：不管小是在开头，还是结尾都会被选出来\n",
    "df1[df1['name'].str.contains('小')] # 上面的王小不是小开头，但是包含小，所以也被选出来。"
   ]
  },
  {
   "cell_type": "code",
   "execution_count": 35,
   "metadata": {},
   "outputs": [
    {
     "output_type": "execute_result",
     "data": {
      "text/plain": [
       "  name  age sex  score address\n",
       "4   关宇   28   男    601      深圳\n",
       "5   刘蓓   18   女    619      广州\n",
       "6   张菲   25   女    701      长沙"
      ],
      "text/html": "<div>\n<style scoped>\n    .dataframe tbody tr th:only-of-type {\n        vertical-align: middle;\n    }\n\n    .dataframe tbody tr th {\n        vertical-align: top;\n    }\n\n    .dataframe thead th {\n        text-align: right;\n    }\n</style>\n<table border=\"1\" class=\"dataframe\">\n  <thead>\n    <tr style=\"text-align: right;\">\n      <th></th>\n      <th>name</th>\n      <th>age</th>\n      <th>sex</th>\n      <th>score</th>\n      <th>address</th>\n    </tr>\n  </thead>\n  <tbody>\n    <tr>\n      <th>4</th>\n      <td>关宇</td>\n      <td>28</td>\n      <td>男</td>\n      <td>601</td>\n      <td>深圳</td>\n    </tr>\n    <tr>\n      <th>5</th>\n      <td>刘蓓</td>\n      <td>18</td>\n      <td>女</td>\n      <td>619</td>\n      <td>广州</td>\n    </tr>\n    <tr>\n      <th>6</th>\n      <td>张菲</td>\n      <td>25</td>\n      <td>女</td>\n      <td>701</td>\n      <td>长沙</td>\n    </tr>\n  </tbody>\n</table>\n</div>"
     },
     "metadata": {},
     "execution_count": 35
    }
   ],
   "source": [
    "# 字符串取反操作，取反符号是波浪线：~\n",
    "# 下面的例子是：取出名字name中不包含小的数据，只有3个人名字中没有小字。\n",
    "df1[~df1['name'].str.contains('小')]\n"
   ]
  },
  {
   "cell_type": "code",
   "execution_count": 36,
   "metadata": {},
   "outputs": [],
   "source": [
    "# 05 切片取数\n",
    "# 切片是Python中存在的概念，在pandas中同样可以使用。切片中存在3个概念：start、stop、step\n",
    "\n",
    "# start：起始索引，包含\n",
    "# stop：结束索引，不包含\n",
    "# step：步长，可正可负；\n",
    "# 写法为：[start:stop:step]"
   ]
  },
  {
   "cell_type": "code",
   "execution_count": 37,
   "metadata": {},
   "outputs": [
    {
     "output_type": "execute_result",
     "data": {
      "text/plain": [
       "  name  age sex  score address\n",
       "0   小明   20   男    669      北京\n",
       "1   小红   18   女    570      深圳\n",
       "2   小孙   27   男    642      广州\n",
       "3   王小   20   男    590      武汉"
      ],
      "text/html": "<div>\n<style scoped>\n    .dataframe tbody tr th:only-of-type {\n        vertical-align: middle;\n    }\n\n    .dataframe tbody tr th {\n        vertical-align: top;\n    }\n\n    .dataframe thead th {\n        text-align: right;\n    }\n</style>\n<table border=\"1\" class=\"dataframe\">\n  <thead>\n    <tr style=\"text-align: right;\">\n      <th></th>\n      <th>name</th>\n      <th>age</th>\n      <th>sex</th>\n      <th>score</th>\n      <th>address</th>\n    </tr>\n  </thead>\n  <tbody>\n    <tr>\n      <th>0</th>\n      <td>小明</td>\n      <td>20</td>\n      <td>男</td>\n      <td>669</td>\n      <td>北京</td>\n    </tr>\n    <tr>\n      <th>1</th>\n      <td>小红</td>\n      <td>18</td>\n      <td>女</td>\n      <td>570</td>\n      <td>深圳</td>\n    </tr>\n    <tr>\n      <th>2</th>\n      <td>小孙</td>\n      <td>27</td>\n      <td>男</td>\n      <td>642</td>\n      <td>广州</td>\n    </tr>\n    <tr>\n      <th>3</th>\n      <td>王小</td>\n      <td>20</td>\n      <td>男</td>\n      <td>590</td>\n      <td>武汉</td>\n    </tr>\n  </tbody>\n</table>\n</div>"
     },
     "metadata": {},
     "execution_count": 37
    }
   ],
   "source": [
    "# 1、通过下面的3个案例说明：起始索引默认从0开始，步长默认是1\n",
    "df1[:4]"
   ]
  },
  {
   "cell_type": "code",
   "execution_count": 38,
   "metadata": {},
   "outputs": [
    {
     "output_type": "execute_result",
     "data": {
      "text/plain": [
       "  name  age sex  score address\n",
       "0   小明   20   男    669      北京\n",
       "1   小红   18   女    570      深圳\n",
       "2   小孙   27   男    642      广州\n",
       "3   王小   20   男    590      武汉"
      ],
      "text/html": "<div>\n<style scoped>\n    .dataframe tbody tr th:only-of-type {\n        vertical-align: middle;\n    }\n\n    .dataframe tbody tr th {\n        vertical-align: top;\n    }\n\n    .dataframe thead th {\n        text-align: right;\n    }\n</style>\n<table border=\"1\" class=\"dataframe\">\n  <thead>\n    <tr style=\"text-align: right;\">\n      <th></th>\n      <th>name</th>\n      <th>age</th>\n      <th>sex</th>\n      <th>score</th>\n      <th>address</th>\n    </tr>\n  </thead>\n  <tbody>\n    <tr>\n      <th>0</th>\n      <td>小明</td>\n      <td>20</td>\n      <td>男</td>\n      <td>669</td>\n      <td>北京</td>\n    </tr>\n    <tr>\n      <th>1</th>\n      <td>小红</td>\n      <td>18</td>\n      <td>女</td>\n      <td>570</td>\n      <td>深圳</td>\n    </tr>\n    <tr>\n      <th>2</th>\n      <td>小孙</td>\n      <td>27</td>\n      <td>男</td>\n      <td>642</td>\n      <td>广州</td>\n    </tr>\n    <tr>\n      <th>3</th>\n      <td>王小</td>\n      <td>20</td>\n      <td>男</td>\n      <td>590</td>\n      <td>武汉</td>\n    </tr>\n  </tbody>\n</table>\n</div>"
     },
     "metadata": {},
     "execution_count": 38
    }
   ],
   "source": [
    "df1[0:4] # 默认步长为1"
   ]
  },
  {
   "cell_type": "code",
   "execution_count": 39,
   "metadata": {},
   "outputs": [
    {
     "output_type": "execute_result",
     "data": {
      "text/plain": [
       "  name  age sex  score address\n",
       "0   小明   20   男    669      北京\n",
       "1   小红   18   女    570      深圳\n",
       "2   小孙   27   男    642      广州\n",
       "3   王小   20   男    590      武汉"
      ],
      "text/html": "<div>\n<style scoped>\n    .dataframe tbody tr th:only-of-type {\n        vertical-align: middle;\n    }\n\n    .dataframe tbody tr th {\n        vertical-align: top;\n    }\n\n    .dataframe thead th {\n        text-align: right;\n    }\n</style>\n<table border=\"1\" class=\"dataframe\">\n  <thead>\n    <tr style=\"text-align: right;\">\n      <th></th>\n      <th>name</th>\n      <th>age</th>\n      <th>sex</th>\n      <th>score</th>\n      <th>address</th>\n    </tr>\n  </thead>\n  <tbody>\n    <tr>\n      <th>0</th>\n      <td>小明</td>\n      <td>20</td>\n      <td>男</td>\n      <td>669</td>\n      <td>北京</td>\n    </tr>\n    <tr>\n      <th>1</th>\n      <td>小红</td>\n      <td>18</td>\n      <td>女</td>\n      <td>570</td>\n      <td>深圳</td>\n    </tr>\n    <tr>\n      <th>2</th>\n      <td>小孙</td>\n      <td>27</td>\n      <td>男</td>\n      <td>642</td>\n      <td>广州</td>\n    </tr>\n    <tr>\n      <th>3</th>\n      <td>王小</td>\n      <td>20</td>\n      <td>男</td>\n      <td>590</td>\n      <td>武汉</td>\n    </tr>\n  </tbody>\n</table>\n</div>"
     },
     "metadata": {},
     "execution_count": 39
    }
   ],
   "source": [
    "df1[0:4:1] # 指定起始、结束索引，步长"
   ]
  },
  {
   "cell_type": "code",
   "execution_count": 41,
   "metadata": {},
   "outputs": [
    {
     "output_type": "execute_result",
     "data": {
      "text/plain": [
       "  name  age sex  score address\n",
       "4   关宇   28   男    601      深圳\n",
       "5   刘蓓   18   女    619      广州\n",
       "6   张菲   25   女    701      长沙"
      ],
      "text/html": "<div>\n<style scoped>\n    .dataframe tbody tr th:only-of-type {\n        vertical-align: middle;\n    }\n\n    .dataframe tbody tr th {\n        vertical-align: top;\n    }\n\n    .dataframe thead th {\n        text-align: right;\n    }\n</style>\n<table border=\"1\" class=\"dataframe\">\n  <thead>\n    <tr style=\"text-align: right;\">\n      <th></th>\n      <th>name</th>\n      <th>age</th>\n      <th>sex</th>\n      <th>score</th>\n      <th>address</th>\n    </tr>\n  </thead>\n  <tbody>\n    <tr>\n      <th>4</th>\n      <td>关宇</td>\n      <td>28</td>\n      <td>男</td>\n      <td>601</td>\n      <td>深圳</td>\n    </tr>\n    <tr>\n      <th>5</th>\n      <td>刘蓓</td>\n      <td>18</td>\n      <td>女</td>\n      <td>619</td>\n      <td>广州</td>\n    </tr>\n    <tr>\n      <th>6</th>\n      <td>张菲</td>\n      <td>25</td>\n      <td>女</td>\n      <td>701</td>\n      <td>长沙</td>\n    </tr>\n  </tbody>\n</table>\n</div>"
     },
     "metadata": {},
     "execution_count": 41
    }
   ],
   "source": [
    "# 2、指定起始索引，不指定结束索引，表示一直取到数据末尾\n",
    "df1[4:]  # 从索引4开始取到末尾\n"
   ]
  },
  {
   "cell_type": "code",
   "execution_count": 42,
   "metadata": {},
   "outputs": [
    {
     "output_type": "execute_result",
     "data": {
      "text/plain": [
       "  name  age sex  score address\n",
       "0   小明   20   男    669      北京\n",
       "2   小孙   27   男    642      广州"
      ],
      "text/html": "<div>\n<style scoped>\n    .dataframe tbody tr th:only-of-type {\n        vertical-align: middle;\n    }\n\n    .dataframe tbody tr th {\n        vertical-align: top;\n    }\n\n    .dataframe thead th {\n        text-align: right;\n    }\n</style>\n<table border=\"1\" class=\"dataframe\">\n  <thead>\n    <tr style=\"text-align: right;\">\n      <th></th>\n      <th>name</th>\n      <th>age</th>\n      <th>sex</th>\n      <th>score</th>\n      <th>address</th>\n    </tr>\n  </thead>\n  <tbody>\n    <tr>\n      <th>0</th>\n      <td>小明</td>\n      <td>20</td>\n      <td>男</td>\n      <td>669</td>\n      <td>北京</td>\n    </tr>\n    <tr>\n      <th>2</th>\n      <td>小孙</td>\n      <td>27</td>\n      <td>男</td>\n      <td>642</td>\n      <td>广州</td>\n    </tr>\n  </tbody>\n</table>\n</div>"
     },
     "metadata": {},
     "execution_count": 42
    }
   ],
   "source": [
    "# 3、改变步长的值\n",
    "df1[0:4:2]  # 改变步长：每隔2个值取一行数据\n"
   ]
  },
  {
   "cell_type": "code",
   "execution_count": 43,
   "metadata": {},
   "outputs": [
    {
     "output_type": "execute_result",
     "data": {
      "text/plain": [
       "  name  age sex  score address\n",
       "0   小明   20   男    669      北京\n",
       "2   小孙   27   男    642      广州"
      ],
      "text/html": "<div>\n<style scoped>\n    .dataframe tbody tr th:only-of-type {\n        vertical-align: middle;\n    }\n\n    .dataframe tbody tr th {\n        vertical-align: top;\n    }\n\n    .dataframe thead th {\n        text-align: right;\n    }\n</style>\n<table border=\"1\" class=\"dataframe\">\n  <thead>\n    <tr style=\"text-align: right;\">\n      <th></th>\n      <th>name</th>\n      <th>age</th>\n      <th>sex</th>\n      <th>score</th>\n      <th>address</th>\n    </tr>\n  </thead>\n  <tbody>\n    <tr>\n      <th>0</th>\n      <td>小明</td>\n      <td>20</td>\n      <td>男</td>\n      <td>669</td>\n      <td>北京</td>\n    </tr>\n    <tr>\n      <th>2</th>\n      <td>小孙</td>\n      <td>27</td>\n      <td>男</td>\n      <td>642</td>\n      <td>广州</td>\n    </tr>\n  </tbody>\n</table>\n</div>"
     },
     "metadata": {},
     "execution_count": 43
    }
   ],
   "source": [
    "df1[:4:2]  # 默认从0开始\n"
   ]
  },
  {
   "cell_type": "code",
   "execution_count": 45,
   "metadata": {},
   "outputs": [
    {
     "output_type": "execute_result",
     "data": {
      "text/plain": [
       "  name  age sex  score address\n",
       "0   小明   20   男    669      北京\n",
       "2   小孙   27   男    642      广州\n",
       "4   关宇   28   男    601      深圳\n",
       "6   张菲   25   女    701      长沙"
      ],
      "text/html": "<div>\n<style scoped>\n    .dataframe tbody tr th:only-of-type {\n        vertical-align: middle;\n    }\n\n    .dataframe tbody tr th {\n        vertical-align: top;\n    }\n\n    .dataframe thead th {\n        text-align: right;\n    }\n</style>\n<table border=\"1\" class=\"dataframe\">\n  <thead>\n    <tr style=\"text-align: right;\">\n      <th></th>\n      <th>name</th>\n      <th>age</th>\n      <th>sex</th>\n      <th>score</th>\n      <th>address</th>\n    </tr>\n  </thead>\n  <tbody>\n    <tr>\n      <th>0</th>\n      <td>小明</td>\n      <td>20</td>\n      <td>男</td>\n      <td>669</td>\n      <td>北京</td>\n    </tr>\n    <tr>\n      <th>2</th>\n      <td>小孙</td>\n      <td>27</td>\n      <td>男</td>\n      <td>642</td>\n      <td>广州</td>\n    </tr>\n    <tr>\n      <th>4</th>\n      <td>关宇</td>\n      <td>28</td>\n      <td>男</td>\n      <td>601</td>\n      <td>深圳</td>\n    </tr>\n    <tr>\n      <th>6</th>\n      <td>张菲</td>\n      <td>25</td>\n      <td>女</td>\n      <td>701</td>\n      <td>长沙</td>\n    </tr>\n  </tbody>\n</table>\n</div>"
     },
     "metadata": {},
     "execution_count": 45
    }
   ],
   "source": [
    "# 4、只指定步长\n",
    "df1[::2] # 从头到尾，步长为2"
   ]
  },
  {
   "cell_type": "code",
   "execution_count": 46,
   "metadata": {},
   "outputs": [
    {
     "output_type": "execute_result",
     "data": {
      "text/plain": [
       "  name  age sex  score address\n",
       "6   张菲   25   女    701      长沙\n",
       "5   刘蓓   18   女    619      广州\n",
       "4   关宇   28   男    601      深圳\n",
       "3   王小   20   男    590      武汉\n",
       "2   小孙   27   男    642      广州\n",
       "1   小红   18   女    570      深圳\n",
       "0   小明   20   男    669      北京"
      ],
      "text/html": "<div>\n<style scoped>\n    .dataframe tbody tr th:only-of-type {\n        vertical-align: middle;\n    }\n\n    .dataframe tbody tr th {\n        vertical-align: top;\n    }\n\n    .dataframe thead th {\n        text-align: right;\n    }\n</style>\n<table border=\"1\" class=\"dataframe\">\n  <thead>\n    <tr style=\"text-align: right;\">\n      <th></th>\n      <th>name</th>\n      <th>age</th>\n      <th>sex</th>\n      <th>score</th>\n      <th>address</th>\n    </tr>\n  </thead>\n  <tbody>\n    <tr>\n      <th>6</th>\n      <td>张菲</td>\n      <td>25</td>\n      <td>女</td>\n      <td>701</td>\n      <td>长沙</td>\n    </tr>\n    <tr>\n      <th>5</th>\n      <td>刘蓓</td>\n      <td>18</td>\n      <td>女</td>\n      <td>619</td>\n      <td>广州</td>\n    </tr>\n    <tr>\n      <th>4</th>\n      <td>关宇</td>\n      <td>28</td>\n      <td>男</td>\n      <td>601</td>\n      <td>深圳</td>\n    </tr>\n    <tr>\n      <th>3</th>\n      <td>王小</td>\n      <td>20</td>\n      <td>男</td>\n      <td>590</td>\n      <td>武汉</td>\n    </tr>\n    <tr>\n      <th>2</th>\n      <td>小孙</td>\n      <td>27</td>\n      <td>男</td>\n      <td>642</td>\n      <td>广州</td>\n    </tr>\n    <tr>\n      <th>1</th>\n      <td>小红</td>\n      <td>18</td>\n      <td>女</td>\n      <td>570</td>\n      <td>深圳</td>\n    </tr>\n    <tr>\n      <th>0</th>\n      <td>小明</td>\n      <td>20</td>\n      <td>男</td>\n      <td>669</td>\n      <td>北京</td>\n    </tr>\n  </tbody>\n</table>\n</div>"
     },
     "metadata": {},
     "execution_count": 46
    }
   ],
   "source": [
    "# 步长为负数\n",
    "# 1、步长为-1，默认是倒序输出结果\n",
    "df1[::-1]"
   ]
  },
  {
   "cell_type": "code",
   "execution_count": 47,
   "metadata": {},
   "outputs": [
    {
     "output_type": "execute_result",
     "data": {
      "text/plain": [
       "  name  age sex  score address\n",
       "4   关宇   28   男    601      深圳\n",
       "3   王小   20   男    590      武汉\n",
       "2   小孙   27   男    642      广州\n",
       "1   小红   18   女    570      深圳"
      ],
      "text/html": "<div>\n<style scoped>\n    .dataframe tbody tr th:only-of-type {\n        vertical-align: middle;\n    }\n\n    .dataframe tbody tr th {\n        vertical-align: top;\n    }\n\n    .dataframe thead th {\n        text-align: right;\n    }\n</style>\n<table border=\"1\" class=\"dataframe\">\n  <thead>\n    <tr style=\"text-align: right;\">\n      <th></th>\n      <th>name</th>\n      <th>age</th>\n      <th>sex</th>\n      <th>score</th>\n      <th>address</th>\n    </tr>\n  </thead>\n  <tbody>\n    <tr>\n      <th>4</th>\n      <td>关宇</td>\n      <td>28</td>\n      <td>男</td>\n      <td>601</td>\n      <td>深圳</td>\n    </tr>\n    <tr>\n      <th>3</th>\n      <td>王小</td>\n      <td>20</td>\n      <td>男</td>\n      <td>590</td>\n      <td>武汉</td>\n    </tr>\n    <tr>\n      <th>2</th>\n      <td>小孙</td>\n      <td>27</td>\n      <td>男</td>\n      <td>642</td>\n      <td>广州</td>\n    </tr>\n    <tr>\n      <th>1</th>\n      <td>小红</td>\n      <td>18</td>\n      <td>女</td>\n      <td>570</td>\n      <td>深圳</td>\n    </tr>\n  </tbody>\n</table>\n</div>"
     },
     "metadata": {},
     "execution_count": 47
    }
   ],
   "source": [
    "# 2、步长为负，指定起始和终止索引，起始索引大于终止索引\n",
    "df1[4:0:-1]\n"
   ]
  },
  {
   "cell_type": "code",
   "execution_count": 48,
   "metadata": {},
   "outputs": [
    {
     "output_type": "execute_result",
     "data": {
      "text/plain": [
       "  name  age sex  score address\n",
       "6   张菲   25   女    701      长沙\n",
       "5   刘蓓   18   女    619      广州\n",
       "4   关宇   28   男    601      深圳\n",
       "3   王小   20   男    590      武汉"
      ],
      "text/html": "<div>\n<style scoped>\n    .dataframe tbody tr th:only-of-type {\n        vertical-align: middle;\n    }\n\n    .dataframe tbody tr th {\n        vertical-align: top;\n    }\n\n    .dataframe thead th {\n        text-align: right;\n    }\n</style>\n<table border=\"1\" class=\"dataframe\">\n  <thead>\n    <tr style=\"text-align: right;\">\n      <th></th>\n      <th>name</th>\n      <th>age</th>\n      <th>sex</th>\n      <th>score</th>\n      <th>address</th>\n    </tr>\n  </thead>\n  <tbody>\n    <tr>\n      <th>6</th>\n      <td>张菲</td>\n      <td>25</td>\n      <td>女</td>\n      <td>701</td>\n      <td>长沙</td>\n    </tr>\n    <tr>\n      <th>5</th>\n      <td>刘蓓</td>\n      <td>18</td>\n      <td>女</td>\n      <td>619</td>\n      <td>广州</td>\n    </tr>\n    <tr>\n      <th>4</th>\n      <td>关宇</td>\n      <td>28</td>\n      <td>男</td>\n      <td>601</td>\n      <td>深圳</td>\n    </tr>\n    <tr>\n      <th>3</th>\n      <td>王小</td>\n      <td>20</td>\n      <td>男</td>\n      <td>590</td>\n      <td>武汉</td>\n    </tr>\n  </tbody>\n</table>\n</div>"
     },
     "metadata": {},
     "execution_count": 48
    }
   ],
   "source": [
    "# 3、起始和终止索引为负数\n",
    "df1[-1:-5:-1] # 最后一行记录索引为-1，不包含索引为-5的数据"
   ]
  },
  {
   "cell_type": "code",
   "execution_count": 49,
   "metadata": {},
   "outputs": [],
   "source": [
    "# 06 常用函数\n",
    "# 统计元素个数\n",
    "# 很多时候我们需要统计某个列中每个元素出现的个数，相当于是做词频统计，使用：value_counts()方法，具体案例为：\n",
    "\n",
    "# ⚠️：新数据中df1增加了一列：班级class，后续有作用"
   ]
  },
  {
   "cell_type": "code",
   "execution_count": 50,
   "metadata": {},
   "outputs": [
    {
     "output_type": "execute_result",
     "data": {
      "text/plain": [
       "  name  age sex  score address class\n",
       "0   小明   20   男    669      北京   one\n",
       "1   小红   18   女    570      深圳   two\n",
       "2   小孙   27   男    642      广州   one\n",
       "3   王小   20   男    590      武汉   two\n",
       "4   关宇   28   男    601      深圳   two\n",
       "5   刘蓓   18   女    619      广州   one\n",
       "6   张菲   25   女    701      长沙   one"
      ],
      "text/html": "<div>\n<style scoped>\n    .dataframe tbody tr th:only-of-type {\n        vertical-align: middle;\n    }\n\n    .dataframe tbody tr th {\n        vertical-align: top;\n    }\n\n    .dataframe thead th {\n        text-align: right;\n    }\n</style>\n<table border=\"1\" class=\"dataframe\">\n  <thead>\n    <tr style=\"text-align: right;\">\n      <th></th>\n      <th>name</th>\n      <th>age</th>\n      <th>sex</th>\n      <th>score</th>\n      <th>address</th>\n      <th>class</th>\n    </tr>\n  </thead>\n  <tbody>\n    <tr>\n      <th>0</th>\n      <td>小明</td>\n      <td>20</td>\n      <td>男</td>\n      <td>669</td>\n      <td>北京</td>\n      <td>one</td>\n    </tr>\n    <tr>\n      <th>1</th>\n      <td>小红</td>\n      <td>18</td>\n      <td>女</td>\n      <td>570</td>\n      <td>深圳</td>\n      <td>two</td>\n    </tr>\n    <tr>\n      <th>2</th>\n      <td>小孙</td>\n      <td>27</td>\n      <td>男</td>\n      <td>642</td>\n      <td>广州</td>\n      <td>one</td>\n    </tr>\n    <tr>\n      <th>3</th>\n      <td>王小</td>\n      <td>20</td>\n      <td>男</td>\n      <td>590</td>\n      <td>武汉</td>\n      <td>two</td>\n    </tr>\n    <tr>\n      <th>4</th>\n      <td>关宇</td>\n      <td>28</td>\n      <td>男</td>\n      <td>601</td>\n      <td>深圳</td>\n      <td>two</td>\n    </tr>\n    <tr>\n      <th>5</th>\n      <td>刘蓓</td>\n      <td>18</td>\n      <td>女</td>\n      <td>619</td>\n      <td>广州</td>\n      <td>one</td>\n    </tr>\n    <tr>\n      <th>6</th>\n      <td>张菲</td>\n      <td>25</td>\n      <td>女</td>\n      <td>701</td>\n      <td>长沙</td>\n      <td>one</td>\n    </tr>\n  </tbody>\n</table>\n</div>"
     },
     "metadata": {},
     "execution_count": 50
    }
   ],
   "source": [
    "df1 = pd.DataFrame({\n",
    "    \"name\":[\"小明\",\"小红\",\"小孙\",\"王小\",\"关宇\",\"刘蓓\",\"张菲\"],\n",
    "    \"age\":[20,18,27,20,28,18,25],\n",
    "    \"sex\":[\"男\",\"女\",\"男\",\"男\",\"男\",\"女\",\"女\"],\n",
    "    \"score\":[669,570,642,590,601,619,701],\n",
    "    \"address\":[\"北京\",\"深圳\",\"广州\",\"武汉\",\"深圳\",\"广州\",\"长沙\"],\n",
    "    \"class\":[\"one\",\"two\",\"one\",\"two\",\"two\",\"one\",\"one\"]\n",
    "})\n",
    "df1"
   ]
  },
  {
   "cell_type": "code",
   "execution_count": 51,
   "metadata": {},
   "outputs": [
    {
     "output_type": "execute_result",
     "data": {
      "text/plain": [
       "广州    2\n",
       "深圳    2\n",
       "长沙    1\n",
       "北京    1\n",
       "武汉    1\n",
       "Name: address, dtype: int64"
      ]
     },
     "metadata": {},
     "execution_count": 51
    }
   ],
   "source": [
    "# 统计中每个城市各出现了多少次\n",
    "address = df1[\"address\"].value_counts()\n",
    "address\n"
   ]
  },
  {
   "cell_type": "code",
   "execution_count": 52,
   "metadata": {},
   "outputs": [
    {
     "output_type": "execute_result",
     "data": {
      "text/plain": [
       "pandas.core.series.Series"
      ]
     },
     "metadata": {},
     "execution_count": 52
    }
   ],
   "source": [
    "type(address) # Series类型"
   ]
  },
  {
   "cell_type": "code",
   "execution_count": 69,
   "metadata": {},
   "outputs": [
    {
     "output_type": "execute_result",
     "data": {
      "text/plain": [
       "  index  address\n",
       "0    广州        2\n",
       "1    深圳        2\n",
       "2    长沙        1\n",
       "3    北京        1\n",
       "4    武汉        1"
      ],
      "text/html": "<div>\n<style scoped>\n    .dataframe tbody tr th:only-of-type {\n        vertical-align: middle;\n    }\n\n    .dataframe tbody tr th {\n        vertical-align: top;\n    }\n\n    .dataframe thead th {\n        text-align: right;\n    }\n</style>\n<table border=\"1\" class=\"dataframe\">\n  <thead>\n    <tr style=\"text-align: right;\">\n      <th></th>\n      <th>index</th>\n      <th>address</th>\n    </tr>\n  </thead>\n  <tbody>\n    <tr>\n      <th>0</th>\n      <td>广州</td>\n      <td>2</td>\n    </tr>\n    <tr>\n      <th>1</th>\n      <td>深圳</td>\n      <td>2</td>\n    </tr>\n    <tr>\n      <th>2</th>\n      <td>长沙</td>\n      <td>1</td>\n    </tr>\n    <tr>\n      <th>3</th>\n      <td>北京</td>\n      <td>1</td>\n    </tr>\n    <tr>\n      <th>4</th>\n      <td>武汉</td>\n      <td>1</td>\n    </tr>\n  </tbody>\n</table>\n</div>"
     },
     "metadata": {},
     "execution_count": 69
    }
   ],
   "source": [
    "# 结果自动是降序排列的Series类型数据\n",
    "# 索引重置\n",
    "# 索引重置使用reset_index()\n",
    "address_new=address.reset_index()\n",
    "address_new"
   ]
  },
  {
   "cell_type": "code",
   "execution_count": 70,
   "metadata": {},
   "outputs": [
    {
     "output_type": "execute_result",
     "data": {
      "text/plain": [
       "pandas.core.frame.DataFrame"
      ]
     },
     "metadata": {},
     "execution_count": 70
    }
   ],
   "source": [
    "type(new_address) # 变成DataFrame类型"
   ]
  },
  {
   "cell_type": "code",
   "execution_count": 71,
   "metadata": {},
   "outputs": [
    {
     "output_type": "execute_result",
     "data": {
      "text/plain": [
       "  name  age sex  score address class\n",
       "0   小明   20   男    669      北京   one\n",
       "2   小孙   27   男    642      广州   one\n",
       "3   王小   20   男    590      武汉   two\n",
       "4   关宇   28   男    601      深圳   two"
      ],
      "text/html": "<div>\n<style scoped>\n    .dataframe tbody tr th:only-of-type {\n        vertical-align: middle;\n    }\n\n    .dataframe tbody tr th {\n        vertical-align: top;\n    }\n\n    .dataframe thead th {\n        text-align: right;\n    }\n</style>\n<table border=\"1\" class=\"dataframe\">\n  <thead>\n    <tr style=\"text-align: right;\">\n      <th></th>\n      <th>name</th>\n      <th>age</th>\n      <th>sex</th>\n      <th>score</th>\n      <th>address</th>\n      <th>class</th>\n    </tr>\n  </thead>\n  <tbody>\n    <tr>\n      <th>0</th>\n      <td>小明</td>\n      <td>20</td>\n      <td>男</td>\n      <td>669</td>\n      <td>北京</td>\n      <td>one</td>\n    </tr>\n    <tr>\n      <th>2</th>\n      <td>小孙</td>\n      <td>27</td>\n      <td>男</td>\n      <td>642</td>\n      <td>广州</td>\n      <td>one</td>\n    </tr>\n    <tr>\n      <th>3</th>\n      <td>王小</td>\n      <td>20</td>\n      <td>男</td>\n      <td>590</td>\n      <td>武汉</td>\n      <td>two</td>\n    </tr>\n    <tr>\n      <th>4</th>\n      <td>关宇</td>\n      <td>28</td>\n      <td>男</td>\n      <td>601</td>\n      <td>深圳</td>\n      <td>two</td>\n    </tr>\n  </tbody>\n</table>\n</div>"
     },
     "metadata": {},
     "execution_count": 71
    }
   ],
   "source": [
    "# 还比如我们想从数据中单独取出sex=\"男\"的数据：\n",
    "fale=df1[df1['sex']=='男']\n",
    "fale"
   ]
  },
  {
   "cell_type": "code",
   "execution_count": 72,
   "metadata": {},
   "outputs": [
    {
     "output_type": "execute_result",
     "data": {
      "text/plain": [
       "   index name  age sex  score address class\n",
       "0      0   小明   20   男    669      北京   one\n",
       "1      2   小孙   27   男    642      广州   one\n",
       "2      3   王小   20   男    590      武汉   two\n",
       "3      4   关宇   28   男    601      深圳   two"
      ],
      "text/html": "<div>\n<style scoped>\n    .dataframe tbody tr th:only-of-type {\n        vertical-align: middle;\n    }\n\n    .dataframe tbody tr th {\n        vertical-align: top;\n    }\n\n    .dataframe thead th {\n        text-align: right;\n    }\n</style>\n<table border=\"1\" class=\"dataframe\">\n  <thead>\n    <tr style=\"text-align: right;\">\n      <th></th>\n      <th>index</th>\n      <th>name</th>\n      <th>age</th>\n      <th>sex</th>\n      <th>score</th>\n      <th>address</th>\n      <th>class</th>\n    </tr>\n  </thead>\n  <tbody>\n    <tr>\n      <th>0</th>\n      <td>0</td>\n      <td>小明</td>\n      <td>20</td>\n      <td>男</td>\n      <td>669</td>\n      <td>北京</td>\n      <td>one</td>\n    </tr>\n    <tr>\n      <th>1</th>\n      <td>2</td>\n      <td>小孙</td>\n      <td>27</td>\n      <td>男</td>\n      <td>642</td>\n      <td>广州</td>\n      <td>one</td>\n    </tr>\n    <tr>\n      <th>2</th>\n      <td>3</td>\n      <td>王小</td>\n      <td>20</td>\n      <td>男</td>\n      <td>590</td>\n      <td>武汉</td>\n      <td>two</td>\n    </tr>\n    <tr>\n      <th>3</th>\n      <td>4</td>\n      <td>关宇</td>\n      <td>28</td>\n      <td>男</td>\n      <td>601</td>\n      <td>深圳</td>\n      <td>two</td>\n    </tr>\n  </tbody>\n</table>\n</div>"
     },
     "metadata": {},
     "execution_count": 72
    }
   ],
   "source": [
    "fale_1=fale.reset_index()\n",
    "fale_1"
   ]
  },
  {
   "cell_type": "code",
   "execution_count": 73,
   "metadata": {},
   "outputs": [
    {
     "output_type": "execute_result",
     "data": {
      "text/plain": [
       "  name  age sex  score address class\n",
       "0   小明   20   男    669      北京   one\n",
       "1   小孙   27   男    642      广州   one\n",
       "2   王小   20   男    590      武汉   two\n",
       "3   关宇   28   男    601      深圳   two"
      ],
      "text/html": "<div>\n<style scoped>\n    .dataframe tbody tr th:only-of-type {\n        vertical-align: middle;\n    }\n\n    .dataframe tbody tr th {\n        vertical-align: top;\n    }\n\n    .dataframe thead th {\n        text-align: right;\n    }\n</style>\n<table border=\"1\" class=\"dataframe\">\n  <thead>\n    <tr style=\"text-align: right;\">\n      <th></th>\n      <th>name</th>\n      <th>age</th>\n      <th>sex</th>\n      <th>score</th>\n      <th>address</th>\n      <th>class</th>\n    </tr>\n  </thead>\n  <tbody>\n    <tr>\n      <th>0</th>\n      <td>小明</td>\n      <td>20</td>\n      <td>男</td>\n      <td>669</td>\n      <td>北京</td>\n      <td>one</td>\n    </tr>\n    <tr>\n      <th>1</th>\n      <td>小孙</td>\n      <td>27</td>\n      <td>男</td>\n      <td>642</td>\n      <td>广州</td>\n      <td>one</td>\n    </tr>\n    <tr>\n      <th>2</th>\n      <td>王小</td>\n      <td>20</td>\n      <td>男</td>\n      <td>590</td>\n      <td>武汉</td>\n      <td>two</td>\n    </tr>\n    <tr>\n      <th>3</th>\n      <td>关宇</td>\n      <td>28</td>\n      <td>男</td>\n      <td>601</td>\n      <td>深圳</td>\n      <td>two</td>\n    </tr>\n  </tbody>\n</table>\n</div>"
     },
     "metadata": {},
     "execution_count": 73
    }
   ],
   "source": [
    "# 出现的结果中索引是我们想要的结果，但是出现了一列新的数据，就是原来的索引构成的数据，这不是我们想要的数据，需要去除：\n",
    "fale_1 = fale.reset_index(drop=True)  # 加上参数即可解决\n",
    "fale_1"
   ]
  },
  {
   "cell_type": "code",
   "execution_count": 74,
   "metadata": {},
   "outputs": [
    {
     "output_type": "execute_result",
     "data": {
      "text/plain": [
       "  index  address\n",
       "0    广州        2\n",
       "1    深圳        2\n",
       "2    长沙        1\n",
       "3    北京        1\n",
       "4    武汉        1"
      ],
      "text/html": "<div>\n<style scoped>\n    .dataframe tbody tr th:only-of-type {\n        vertical-align: middle;\n    }\n\n    .dataframe tbody tr th {\n        vertical-align: top;\n    }\n\n    .dataframe thead th {\n        text-align: right;\n    }\n</style>\n<table border=\"1\" class=\"dataframe\">\n  <thead>\n    <tr style=\"text-align: right;\">\n      <th></th>\n      <th>index</th>\n      <th>address</th>\n    </tr>\n  </thead>\n  <tbody>\n    <tr>\n      <th>0</th>\n      <td>广州</td>\n      <td>2</td>\n    </tr>\n    <tr>\n      <th>1</th>\n      <td>深圳</td>\n      <td>2</td>\n    </tr>\n    <tr>\n      <th>2</th>\n      <td>长沙</td>\n      <td>1</td>\n    </tr>\n    <tr>\n      <th>3</th>\n      <td>北京</td>\n      <td>1</td>\n    </tr>\n    <tr>\n      <th>4</th>\n      <td>武汉</td>\n      <td>1</td>\n    </tr>\n  </tbody>\n</table>\n</div>"
     },
     "metadata": {},
     "execution_count": 74
    }
   ],
   "source": [
    "address_new"
   ]
  },
  {
   "cell_type": "code",
   "execution_count": 75,
   "metadata": {},
   "outputs": [
    {
     "output_type": "execute_result",
     "data": {
      "text/plain": [
       "  address  number\n",
       "0      广州       2\n",
       "1      深圳       2\n",
       "2      长沙       1\n",
       "3      北京       1\n",
       "4      武汉       1"
      ],
      "text/html": "<div>\n<style scoped>\n    .dataframe tbody tr th:only-of-type {\n        vertical-align: middle;\n    }\n\n    .dataframe tbody tr th {\n        vertical-align: top;\n    }\n\n    .dataframe thead th {\n        text-align: right;\n    }\n</style>\n<table border=\"1\" class=\"dataframe\">\n  <thead>\n    <tr style=\"text-align: right;\">\n      <th></th>\n      <th>address</th>\n      <th>number</th>\n    </tr>\n  </thead>\n  <tbody>\n    <tr>\n      <th>0</th>\n      <td>广州</td>\n      <td>2</td>\n    </tr>\n    <tr>\n      <th>1</th>\n      <td>深圳</td>\n      <td>2</td>\n    </tr>\n    <tr>\n      <th>2</th>\n      <td>长沙</td>\n      <td>1</td>\n    </tr>\n    <tr>\n      <th>3</th>\n      <td>北京</td>\n      <td>1</td>\n    </tr>\n    <tr>\n      <th>4</th>\n      <td>武汉</td>\n      <td>1</td>\n    </tr>\n  </tbody>\n</table>\n</div>"
     },
     "metadata": {},
     "execution_count": 75
    }
   ],
   "source": [
    "# 属性重命名\n",
    "# 使用的是rename函数，传入columsn参数：\n",
    "address_new=address_new.rename(columns={'index':'address','address':'number'})\n",
    "address_new"
   ]
  },
  {
   "cell_type": "code",
   "execution_count": 76,
   "metadata": {},
   "outputs": [],
   "source": [
    "# groupby使用\n",
    "# groupby主要是实现分组统计的功能：\n",
    "# 1、比如我们想统计男女各自的总分"
   ]
  },
  {
   "cell_type": "code",
   "execution_count": 77,
   "metadata": {},
   "outputs": [
    {
     "output_type": "execute_result",
     "data": {
      "text/plain": [
       "  name  age sex  score address class\n",
       "0   小明   20   男    669      北京   one\n",
       "1   小红   18   女    570      深圳   two\n",
       "2   小孙   27   男    642      广州   one\n",
       "3   王小   20   男    590      武汉   two\n",
       "4   关宇   28   男    601      深圳   two\n",
       "5   刘蓓   18   女    619      广州   one\n",
       "6   张菲   25   女    701      长沙   one"
      ],
      "text/html": "<div>\n<style scoped>\n    .dataframe tbody tr th:only-of-type {\n        vertical-align: middle;\n    }\n\n    .dataframe tbody tr th {\n        vertical-align: top;\n    }\n\n    .dataframe thead th {\n        text-align: right;\n    }\n</style>\n<table border=\"1\" class=\"dataframe\">\n  <thead>\n    <tr style=\"text-align: right;\">\n      <th></th>\n      <th>name</th>\n      <th>age</th>\n      <th>sex</th>\n      <th>score</th>\n      <th>address</th>\n      <th>class</th>\n    </tr>\n  </thead>\n  <tbody>\n    <tr>\n      <th>0</th>\n      <td>小明</td>\n      <td>20</td>\n      <td>男</td>\n      <td>669</td>\n      <td>北京</td>\n      <td>one</td>\n    </tr>\n    <tr>\n      <th>1</th>\n      <td>小红</td>\n      <td>18</td>\n      <td>女</td>\n      <td>570</td>\n      <td>深圳</td>\n      <td>two</td>\n    </tr>\n    <tr>\n      <th>2</th>\n      <td>小孙</td>\n      <td>27</td>\n      <td>男</td>\n      <td>642</td>\n      <td>广州</td>\n      <td>one</td>\n    </tr>\n    <tr>\n      <th>3</th>\n      <td>王小</td>\n      <td>20</td>\n      <td>男</td>\n      <td>590</td>\n      <td>武汉</td>\n      <td>two</td>\n    </tr>\n    <tr>\n      <th>4</th>\n      <td>关宇</td>\n      <td>28</td>\n      <td>男</td>\n      <td>601</td>\n      <td>深圳</td>\n      <td>two</td>\n    </tr>\n    <tr>\n      <th>5</th>\n      <td>刘蓓</td>\n      <td>18</td>\n      <td>女</td>\n      <td>619</td>\n      <td>广州</td>\n      <td>one</td>\n    </tr>\n    <tr>\n      <th>6</th>\n      <td>张菲</td>\n      <td>25</td>\n      <td>女</td>\n      <td>701</td>\n      <td>长沙</td>\n      <td>one</td>\n    </tr>\n  </tbody>\n</table>\n</div>"
     },
     "metadata": {},
     "execution_count": 77
    }
   ],
   "source": [
    "df1 # 统计男女的总分"
   ]
  },
  {
   "cell_type": "code",
   "execution_count": 78,
   "metadata": {},
   "outputs": [
    {
     "output_type": "execute_result",
     "data": {
      "text/plain": [
       "sex\n",
       "女    1890\n",
       "男    2502\n",
       "Name: score, dtype: int64"
      ]
     },
     "metadata": {},
     "execution_count": 78
    }
   ],
   "source": [
    "# 统计男女的总成绩：sum\n",
    "sex_score=df1.groupby('sex')['score'].sum()\n",
    "sex_score"
   ]
  },
  {
   "cell_type": "code",
   "execution_count": 79,
   "metadata": {},
   "outputs": [
    {
     "output_type": "execute_result",
     "data": {
      "text/plain": [
       "sex\n",
       "女    630.0\n",
       "男    625.5\n",
       "Name: score, dtype: float64"
      ]
     },
     "metadata": {},
     "execution_count": 79
    }
   ],
   "source": [
    "# 2、求男女各自的平均分mean\n",
    "sex_score=df1.groupby('sex')['score'].mean()\n",
    "sex_score"
   ]
  },
  {
   "cell_type": "code",
   "execution_count": 80,
   "metadata": {},
   "outputs": [
    {
     "output_type": "execute_result",
     "data": {
      "text/plain": [
       "sex  class\n",
       "女    one      1320\n",
       "     two       570\n",
       "男    one      1311\n",
       "     two      1191\n",
       "Name: score, dtype: int64"
      ]
     },
     "metadata": {},
     "execution_count": 80
    }
   ],
   "source": [
    "# 3、根据男女性别sex、班级class求总分\n",
    "sex_class =df1.groupby(['sex','class'])['score'].sum() # 先根据性别、班级求总分\n",
    "sex_class"
   ]
  },
  {
   "cell_type": "code",
   "execution_count": 81,
   "metadata": {},
   "outputs": [
    {
     "output_type": "execute_result",
     "data": {
      "text/plain": [
       "  sex class  score\n",
       "0   女   one   1320\n",
       "1   女   two    570\n",
       "2   男   one   1311\n",
       "3   男   two   1191"
      ],
      "text/html": "<div>\n<style scoped>\n    .dataframe tbody tr th:only-of-type {\n        vertical-align: middle;\n    }\n\n    .dataframe tbody tr th {\n        vertical-align: top;\n    }\n\n    .dataframe thead th {\n        text-align: right;\n    }\n</style>\n<table border=\"1\" class=\"dataframe\">\n  <thead>\n    <tr style=\"text-align: right;\">\n      <th></th>\n      <th>sex</th>\n      <th>class</th>\n      <th>score</th>\n    </tr>\n  </thead>\n  <tbody>\n    <tr>\n      <th>0</th>\n      <td>女</td>\n      <td>one</td>\n      <td>1320</td>\n    </tr>\n    <tr>\n      <th>1</th>\n      <td>女</td>\n      <td>two</td>\n      <td>570</td>\n    </tr>\n    <tr>\n      <th>2</th>\n      <td>男</td>\n      <td>one</td>\n      <td>1311</td>\n    </tr>\n    <tr>\n      <th>3</th>\n      <td>男</td>\n      <td>two</td>\n      <td>1191</td>\n    </tr>\n  </tbody>\n</table>\n</div>"
     },
     "metadata": {},
     "execution_count": 81
    }
   ],
   "source": [
    "# 索引重置\n",
    "sex_class=sex_class.reset_index()\n",
    "sex_class"
   ]
  },
  {
   "cell_type": "code",
   "execution_count": 82,
   "metadata": {},
   "outputs": [
    {
     "output_type": "execute_result",
     "data": {
      "text/plain": [
       "  sex class  score\n",
       "0   女   one   1320\n",
       "1   女   two    570\n",
       "2   男   one   1311\n",
       "3   男   two   1191"
      ],
      "text/html": "<div>\n<style scoped>\n    .dataframe tbody tr th:only-of-type {\n        vertical-align: middle;\n    }\n\n    .dataframe tbody tr th {\n        vertical-align: top;\n    }\n\n    .dataframe thead th {\n        text-align: right;\n    }\n</style>\n<table border=\"1\" class=\"dataframe\">\n  <thead>\n    <tr style=\"text-align: right;\">\n      <th></th>\n      <th>sex</th>\n      <th>class</th>\n      <th>score</th>\n    </tr>\n  </thead>\n  <tbody>\n    <tr>\n      <th>0</th>\n      <td>女</td>\n      <td>one</td>\n      <td>1320</td>\n    </tr>\n    <tr>\n      <th>1</th>\n      <td>女</td>\n      <td>two</td>\n      <td>570</td>\n    </tr>\n    <tr>\n      <th>2</th>\n      <td>男</td>\n      <td>one</td>\n      <td>1311</td>\n    </tr>\n    <tr>\n      <th>3</th>\n      <td>男</td>\n      <td>two</td>\n      <td>1191</td>\n    </tr>\n  </tbody>\n</table>\n</div>"
     },
     "metadata": {},
     "execution_count": 82
    }
   ],
   "source": [
    "# 一行代码实现上面的功能：\n",
    "df1.groupby(['sex','class'])['score'].sum().reset_index()"
   ]
  },
  {
   "cell_type": "code",
   "execution_count": 83,
   "metadata": {},
   "outputs": [
    {
     "output_type": "execute_result",
     "data": {
      "text/plain": [
       "  name  age sex  score address class\n",
       "0   小明   20   男    669      北京   one\n",
       "1   小红   18   女    570      深圳   two\n",
       "2   小孙   27   男    642      广州   one\n",
       "3   王小   20   男    590      武汉   two\n",
       "4   关宇   28   男    601      深圳   two\n",
       "5   刘蓓   18   女    619      广州   one\n",
       "6   张菲   25   女    701      长沙   one"
      ],
      "text/html": "<div>\n<style scoped>\n    .dataframe tbody tr th:only-of-type {\n        vertical-align: middle;\n    }\n\n    .dataframe tbody tr th {\n        vertical-align: top;\n    }\n\n    .dataframe thead th {\n        text-align: right;\n    }\n</style>\n<table border=\"1\" class=\"dataframe\">\n  <thead>\n    <tr style=\"text-align: right;\">\n      <th></th>\n      <th>name</th>\n      <th>age</th>\n      <th>sex</th>\n      <th>score</th>\n      <th>address</th>\n      <th>class</th>\n    </tr>\n  </thead>\n  <tbody>\n    <tr>\n      <th>0</th>\n      <td>小明</td>\n      <td>20</td>\n      <td>男</td>\n      <td>669</td>\n      <td>北京</td>\n      <td>one</td>\n    </tr>\n    <tr>\n      <th>1</th>\n      <td>小红</td>\n      <td>18</td>\n      <td>女</td>\n      <td>570</td>\n      <td>深圳</td>\n      <td>two</td>\n    </tr>\n    <tr>\n      <th>2</th>\n      <td>小孙</td>\n      <td>27</td>\n      <td>男</td>\n      <td>642</td>\n      <td>广州</td>\n      <td>one</td>\n    </tr>\n    <tr>\n      <th>3</th>\n      <td>王小</td>\n      <td>20</td>\n      <td>男</td>\n      <td>590</td>\n      <td>武汉</td>\n      <td>two</td>\n    </tr>\n    <tr>\n      <th>4</th>\n      <td>关宇</td>\n      <td>28</td>\n      <td>男</td>\n      <td>601</td>\n      <td>深圳</td>\n      <td>two</td>\n    </tr>\n    <tr>\n      <th>5</th>\n      <td>刘蓓</td>\n      <td>18</td>\n      <td>女</td>\n      <td>619</td>\n      <td>广州</td>\n      <td>one</td>\n    </tr>\n    <tr>\n      <th>6</th>\n      <td>张菲</td>\n      <td>25</td>\n      <td>女</td>\n      <td>701</td>\n      <td>长沙</td>\n      <td>one</td>\n    </tr>\n  </tbody>\n</table>\n</div>"
     },
     "metadata": {},
     "execution_count": 83
    }
   ],
   "source": [
    "# apply函数\n",
    "# 还是上面的df1数据集：\n",
    "df1"
   ]
  },
  {
   "cell_type": "code",
   "execution_count": 85,
   "metadata": {},
   "outputs": [
    {
     "output_type": "execute_result",
     "data": {
      "text/plain": [
       "  name  age  sex  score address class\n",
       "0   小明   20    1    669      北京   one\n",
       "1   小红   18    0    570      深圳   two\n",
       "2   小孙   27    1    642      广州   one\n",
       "3   王小   20    1    590      武汉   two\n",
       "4   关宇   28    1    601      深圳   two\n",
       "5   刘蓓   18    0    619      广州   one\n",
       "6   张菲   25    0    701      长沙   one"
      ],
      "text/html": "<div>\n<style scoped>\n    .dataframe tbody tr th:only-of-type {\n        vertical-align: middle;\n    }\n\n    .dataframe tbody tr th {\n        vertical-align: top;\n    }\n\n    .dataframe thead th {\n        text-align: right;\n    }\n</style>\n<table border=\"1\" class=\"dataframe\">\n  <thead>\n    <tr style=\"text-align: right;\">\n      <th></th>\n      <th>name</th>\n      <th>age</th>\n      <th>sex</th>\n      <th>score</th>\n      <th>address</th>\n      <th>class</th>\n    </tr>\n  </thead>\n  <tbody>\n    <tr>\n      <th>0</th>\n      <td>小明</td>\n      <td>20</td>\n      <td>1</td>\n      <td>669</td>\n      <td>北京</td>\n      <td>one</td>\n    </tr>\n    <tr>\n      <th>1</th>\n      <td>小红</td>\n      <td>18</td>\n      <td>0</td>\n      <td>570</td>\n      <td>深圳</td>\n      <td>two</td>\n    </tr>\n    <tr>\n      <th>2</th>\n      <td>小孙</td>\n      <td>27</td>\n      <td>1</td>\n      <td>642</td>\n      <td>广州</td>\n      <td>one</td>\n    </tr>\n    <tr>\n      <th>3</th>\n      <td>王小</td>\n      <td>20</td>\n      <td>1</td>\n      <td>590</td>\n      <td>武汉</td>\n      <td>two</td>\n    </tr>\n    <tr>\n      <th>4</th>\n      <td>关宇</td>\n      <td>28</td>\n      <td>1</td>\n      <td>601</td>\n      <td>深圳</td>\n      <td>two</td>\n    </tr>\n    <tr>\n      <th>5</th>\n      <td>刘蓓</td>\n      <td>18</td>\n      <td>0</td>\n      <td>619</td>\n      <td>广州</td>\n      <td>one</td>\n    </tr>\n    <tr>\n      <th>6</th>\n      <td>张菲</td>\n      <td>25</td>\n      <td>0</td>\n      <td>701</td>\n      <td>长沙</td>\n      <td>one</td>\n    </tr>\n  </tbody>\n</table>\n</div>"
     },
     "metadata": {},
     "execution_count": 85
    }
   ],
   "source": [
    "# 1、需求1：我们想将性别中的男变成1，女变成0\n",
    "df2=df1.copy()  # 生成一个副本\n",
    "df2['sex']=df2['sex'].apply(lambda x: 1 if x ==\"男\" else 0) # 通过匿名函数解决\n",
    "df2"
   ]
  },
  {
   "cell_type": "code",
   "execution_count": 86,
   "metadata": {},
   "outputs": [
    {
     "output_type": "execute_result",
     "data": {
      "text/plain": [
       "  name  age  sex  score address class\n",
       "0   小明   20    1    669      北京   one\n",
       "1   小红   18    0    570      深圳   two\n",
       "2   小孙   27    1    642      广州   one\n",
       "3   王小   20    1    590      武汉   two\n",
       "4   关宇   28    1    601      深圳   two\n",
       "5   刘蓓   18    0    619      广州   one\n",
       "6   张菲   25    0    701      长沙   one"
      ],
      "text/html": "<div>\n<style scoped>\n    .dataframe tbody tr th:only-of-type {\n        vertical-align: middle;\n    }\n\n    .dataframe tbody tr th {\n        vertical-align: top;\n    }\n\n    .dataframe thead th {\n        text-align: right;\n    }\n</style>\n<table border=\"1\" class=\"dataframe\">\n  <thead>\n    <tr style=\"text-align: right;\">\n      <th></th>\n      <th>name</th>\n      <th>age</th>\n      <th>sex</th>\n      <th>score</th>\n      <th>address</th>\n      <th>class</th>\n    </tr>\n  </thead>\n  <tbody>\n    <tr>\n      <th>0</th>\n      <td>小明</td>\n      <td>20</td>\n      <td>1</td>\n      <td>669</td>\n      <td>北京</td>\n      <td>one</td>\n    </tr>\n    <tr>\n      <th>1</th>\n      <td>小红</td>\n      <td>18</td>\n      <td>0</td>\n      <td>570</td>\n      <td>深圳</td>\n      <td>two</td>\n    </tr>\n    <tr>\n      <th>2</th>\n      <td>小孙</td>\n      <td>27</td>\n      <td>1</td>\n      <td>642</td>\n      <td>广州</td>\n      <td>one</td>\n    </tr>\n    <tr>\n      <th>3</th>\n      <td>王小</td>\n      <td>20</td>\n      <td>1</td>\n      <td>590</td>\n      <td>武汉</td>\n      <td>two</td>\n    </tr>\n    <tr>\n      <th>4</th>\n      <td>关宇</td>\n      <td>28</td>\n      <td>1</td>\n      <td>601</td>\n      <td>深圳</td>\n      <td>two</td>\n    </tr>\n    <tr>\n      <th>5</th>\n      <td>刘蓓</td>\n      <td>18</td>\n      <td>0</td>\n      <td>619</td>\n      <td>广州</td>\n      <td>one</td>\n    </tr>\n    <tr>\n      <th>6</th>\n      <td>张菲</td>\n      <td>25</td>\n      <td>0</td>\n      <td>701</td>\n      <td>长沙</td>\n      <td>one</td>\n    </tr>\n  </tbody>\n</table>\n</div>"
     },
     "metadata": {},
     "execution_count": 86
    }
   ],
   "source": [
    "# 我们还可以自定义一个函数来实现：\n",
    "def apply_sex(x):\n",
    "    return 1 if x == \"男\" else 0\n",
    "df3 = df1.copy()  # 生成一个副本df3\n",
    "df3[\"sex\"] = df3[\"sex\"].apply(apply_sex)  # 通过自定义函数解决\n",
    "df3"
   ]
  },
  {
   "cell_type": "code",
   "execution_count": 88,
   "metadata": {},
   "outputs": [
    {
     "output_type": "execute_result",
     "data": {
      "text/plain": [
       "  name  age sex  score address class\n",
       "0   小明   20   男    669     北京市   one\n",
       "1   小红   18   女    570     深圳市   two\n",
       "2   小孙   27   男    642     广州市   one\n",
       "3   王小   20   男    590     武汉市   two\n",
       "4   关宇   28   男    601     深圳市   two\n",
       "5   刘蓓   18   女    619     广州市   one\n",
       "6   张菲   25   女    701     长沙市   one"
      ],
      "text/html": "<div>\n<style scoped>\n    .dataframe tbody tr th:only-of-type {\n        vertical-align: middle;\n    }\n\n    .dataframe tbody tr th {\n        vertical-align: top;\n    }\n\n    .dataframe thead th {\n        text-align: right;\n    }\n</style>\n<table border=\"1\" class=\"dataframe\">\n  <thead>\n    <tr style=\"text-align: right;\">\n      <th></th>\n      <th>name</th>\n      <th>age</th>\n      <th>sex</th>\n      <th>score</th>\n      <th>address</th>\n      <th>class</th>\n    </tr>\n  </thead>\n  <tbody>\n    <tr>\n      <th>0</th>\n      <td>小明</td>\n      <td>20</td>\n      <td>男</td>\n      <td>669</td>\n      <td>北京市</td>\n      <td>one</td>\n    </tr>\n    <tr>\n      <th>1</th>\n      <td>小红</td>\n      <td>18</td>\n      <td>女</td>\n      <td>570</td>\n      <td>深圳市</td>\n      <td>two</td>\n    </tr>\n    <tr>\n      <th>2</th>\n      <td>小孙</td>\n      <td>27</td>\n      <td>男</td>\n      <td>642</td>\n      <td>广州市</td>\n      <td>one</td>\n    </tr>\n    <tr>\n      <th>3</th>\n      <td>王小</td>\n      <td>20</td>\n      <td>男</td>\n      <td>590</td>\n      <td>武汉市</td>\n      <td>two</td>\n    </tr>\n    <tr>\n      <th>4</th>\n      <td>关宇</td>\n      <td>28</td>\n      <td>男</td>\n      <td>601</td>\n      <td>深圳市</td>\n      <td>two</td>\n    </tr>\n    <tr>\n      <th>5</th>\n      <td>刘蓓</td>\n      <td>18</td>\n      <td>女</td>\n      <td>619</td>\n      <td>广州市</td>\n      <td>one</td>\n    </tr>\n    <tr>\n      <th>6</th>\n      <td>张菲</td>\n      <td>25</td>\n      <td>女</td>\n      <td>701</td>\n      <td>长沙市</td>\n      <td>one</td>\n    </tr>\n  </tbody>\n</table>\n</div>"
     },
     "metadata": {},
     "execution_count": 88
    }
   ],
   "source": [
    "# 2、还比如我们想给每个城市的后面加上一个“市”，变成北京市、深圳市等：\n",
    "df4=df1.copy()\n",
    "df4['address']=df4['address'].apply(lambda x: x+'市')\n",
    "df4"
   ]
  },
  {
   "cell_type": "code",
   "execution_count": null,
   "metadata": {},
   "outputs": [],
   "source": []
  }
 ],
 "metadata": {
  "kernelspec": {
   "name": "python389jvsc74a57bd03b1827d4b6462cc460901af0bc0d075c933010817877a813d51f78a107cbf6e5",
   "display_name": "Python 3.8.9 64-bit"
  },
  "language_info": {
   "codemirror_mode": {
    "name": "ipython",
    "version": 2
   },
   "file_extension": ".py",
   "mimetype": "text/x-python",
   "name": "python",
   "nbconvert_exporter": "python",
   "pygments_lexer": "ipython2",
   "version": "3.8.9"
  }
 },
 "nbformat": 4,
 "nbformat_minor": 0
}